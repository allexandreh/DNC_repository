{
  "cells": [
    {
      "cell_type": "code",
      "execution_count": 1,
      "metadata": {
        "id": "Dvvx_Sch4nQy"
      },
      "outputs": [],
      "source": [
        "import pandas as pd\n",
        "import numpy as np\n",
        "import seaborn as sns"
      ]
    },
    {
      "cell_type": "code",
      "execution_count": 9,
      "metadata": {
        "colab": {
          "base_uri": "https://localhost:8080/",
          "height": 206
        },
        "id": "BoFxqtDq4ygB",
        "outputId": "d3d87648-a2dc-4abd-c598-f80bb76d6413"
      },
      "outputs": [
        {
          "data": {
            "text/html": [
              "<div>\n",
              "<style scoped>\n",
              "    .dataframe tbody tr th:only-of-type {\n",
              "        vertical-align: middle;\n",
              "    }\n",
              "\n",
              "    .dataframe tbody tr th {\n",
              "        vertical-align: top;\n",
              "    }\n",
              "\n",
              "    .dataframe thead th {\n",
              "        text-align: right;\n",
              "    }\n",
              "</style>\n",
              "<table border=\"1\" class=\"dataframe\">\n",
              "  <thead>\n",
              "    <tr style=\"text-align: right;\">\n",
              "      <th></th>\n",
              "      <th>Idade</th>\n",
              "      <th>RendimentoTotal</th>\n",
              "      <th>Salario</th>\n",
              "      <th>LimitedeCreditoImediato</th>\n",
              "      <th>LimitedoChequeEspecial</th>\n",
              "      <th>Escolaridade</th>\n",
              "    </tr>\n",
              "  </thead>\n",
              "  <tbody>\n",
              "    <tr>\n",
              "      <th>0</th>\n",
              "      <td>70</td>\n",
              "      <td>10736</td>\n",
              "      <td>5214</td>\n",
              "      <td>400</td>\n",
              "      <td>500</td>\n",
              "      <td>Fundamental_Medio</td>\n",
              "    </tr>\n",
              "    <tr>\n",
              "      <th>1</th>\n",
              "      <td>68</td>\n",
              "      <td>5000</td>\n",
              "      <td>5000</td>\n",
              "      <td>380</td>\n",
              "      <td>600</td>\n",
              "      <td>Fundamental_Medio</td>\n",
              "    </tr>\n",
              "    <tr>\n",
              "      <th>2</th>\n",
              "      <td>44</td>\n",
              "      <td>5800</td>\n",
              "      <td>5800</td>\n",
              "      <td>500</td>\n",
              "      <td>800</td>\n",
              "      <td>Fundamental_Medio</td>\n",
              "    </tr>\n",
              "    <tr>\n",
              "      <th>3</th>\n",
              "      <td>72</td>\n",
              "      <td>4300</td>\n",
              "      <td>4300</td>\n",
              "      <td>2000</td>\n",
              "      <td>1000</td>\n",
              "      <td>Fundamental_Medio</td>\n",
              "    </tr>\n",
              "    <tr>\n",
              "      <th>4</th>\n",
              "      <td>75</td>\n",
              "      <td>4400</td>\n",
              "      <td>4400</td>\n",
              "      <td>3000</td>\n",
              "      <td>1000</td>\n",
              "      <td>Fundamental_Medio</td>\n",
              "    </tr>\n",
              "  </tbody>\n",
              "</table>\n",
              "</div>"
            ],
            "text/plain": [
              "   Idade  RendimentoTotal  Salario  LimitedeCreditoImediato  \\\n",
              "0     70            10736     5214                      400   \n",
              "1     68             5000     5000                      380   \n",
              "2     44             5800     5800                      500   \n",
              "3     72             4300     4300                     2000   \n",
              "4     75             4400     4400                     3000   \n",
              "\n",
              "   LimitedoChequeEspecial       Escolaridade  \n",
              "0                     500  Fundamental_Medio  \n",
              "1                     600  Fundamental_Medio  \n",
              "2                     800  Fundamental_Medio  \n",
              "3                    1000  Fundamental_Medio  \n",
              "4                    1000  Fundamental_Medio  "
            ]
          },
          "execution_count": 9,
          "metadata": {},
          "output_type": "execute_result"
        }
      ],
      "source": [
        "#Importe o arquivo formato xlsx\n",
        "df_escolaridade = pd.read_excel(r\"C:\\Users\\alexa\\OneDrive\\Área de Trabalho\\repositorios_git\\DNC_repository\\exe_regressao_linear_multipla\\escolaridade.xlsx\")\n",
        "df_escolaridade.head()"
      ]
    },
    {
      "cell_type": "code",
      "execution_count": 10,
      "metadata": {
        "id": "R9loSrSf44I-"
      },
      "outputs": [],
      "source": [
        "df_escolaridade = pd.get_dummies(df_escolaridade, prefix=['Escolaridade'])\n"
      ]
    },
    {
      "cell_type": "code",
      "execution_count": 11,
      "metadata": {
        "colab": {
          "base_uri": "https://localhost:8080/",
          "height": 206
        },
        "id": "_ovX4xyo5Pea",
        "outputId": "31c3c46e-4308-44fe-c794-0e1ad3bdef4d"
      },
      "outputs": [
        {
          "data": {
            "text/html": [
              "<div>\n",
              "<style scoped>\n",
              "    .dataframe tbody tr th:only-of-type {\n",
              "        vertical-align: middle;\n",
              "    }\n",
              "\n",
              "    .dataframe tbody tr th {\n",
              "        vertical-align: top;\n",
              "    }\n",
              "\n",
              "    .dataframe thead th {\n",
              "        text-align: right;\n",
              "    }\n",
              "</style>\n",
              "<table border=\"1\" class=\"dataframe\">\n",
              "  <thead>\n",
              "    <tr style=\"text-align: right;\">\n",
              "      <th></th>\n",
              "      <th>Idade</th>\n",
              "      <th>RendimentoTotal</th>\n",
              "      <th>Salario</th>\n",
              "      <th>LimitedeCreditoImediato</th>\n",
              "      <th>LimitedoChequeEspecial</th>\n",
              "      <th>Escolaridade_Fundamental_Medio</th>\n",
              "      <th>Escolaridade_Superior_Pos</th>\n",
              "    </tr>\n",
              "  </thead>\n",
              "  <tbody>\n",
              "    <tr>\n",
              "      <th>0</th>\n",
              "      <td>70</td>\n",
              "      <td>10736</td>\n",
              "      <td>5214</td>\n",
              "      <td>400</td>\n",
              "      <td>500</td>\n",
              "      <td>1</td>\n",
              "      <td>0</td>\n",
              "    </tr>\n",
              "    <tr>\n",
              "      <th>1</th>\n",
              "      <td>68</td>\n",
              "      <td>5000</td>\n",
              "      <td>5000</td>\n",
              "      <td>380</td>\n",
              "      <td>600</td>\n",
              "      <td>1</td>\n",
              "      <td>0</td>\n",
              "    </tr>\n",
              "    <tr>\n",
              "      <th>2</th>\n",
              "      <td>44</td>\n",
              "      <td>5800</td>\n",
              "      <td>5800</td>\n",
              "      <td>500</td>\n",
              "      <td>800</td>\n",
              "      <td>1</td>\n",
              "      <td>0</td>\n",
              "    </tr>\n",
              "    <tr>\n",
              "      <th>3</th>\n",
              "      <td>72</td>\n",
              "      <td>4300</td>\n",
              "      <td>4300</td>\n",
              "      <td>2000</td>\n",
              "      <td>1000</td>\n",
              "      <td>1</td>\n",
              "      <td>0</td>\n",
              "    </tr>\n",
              "    <tr>\n",
              "      <th>4</th>\n",
              "      <td>75</td>\n",
              "      <td>4400</td>\n",
              "      <td>4400</td>\n",
              "      <td>3000</td>\n",
              "      <td>1000</td>\n",
              "      <td>1</td>\n",
              "      <td>0</td>\n",
              "    </tr>\n",
              "  </tbody>\n",
              "</table>\n",
              "</div>"
            ],
            "text/plain": [
              "   Idade  RendimentoTotal  Salario  LimitedeCreditoImediato  \\\n",
              "0     70            10736     5214                      400   \n",
              "1     68             5000     5000                      380   \n",
              "2     44             5800     5800                      500   \n",
              "3     72             4300     4300                     2000   \n",
              "4     75             4400     4400                     3000   \n",
              "\n",
              "   LimitedoChequeEspecial  Escolaridade_Fundamental_Medio  \\\n",
              "0                     500                               1   \n",
              "1                     600                               1   \n",
              "2                     800                               1   \n",
              "3                    1000                               1   \n",
              "4                    1000                               1   \n",
              "\n",
              "   Escolaridade_Superior_Pos  \n",
              "0                          0  \n",
              "1                          0  \n",
              "2                          0  \n",
              "3                          0  \n",
              "4                          0  "
            ]
          },
          "execution_count": 11,
          "metadata": {},
          "output_type": "execute_result"
        }
      ],
      "source": [
        "df_escolaridade.head()"
      ]
    },
    {
      "cell_type": "code",
      "execution_count": 12,
      "metadata": {
        "colab": {
          "base_uri": "https://localhost:8080/",
          "height": 333
        },
        "id": "JIYgs7aT5StS",
        "outputId": "5c02166f-b39d-4b91-e01a-bf901ee7dba2"
      },
      "outputs": [
        {
          "data": {
            "text/html": [
              "<div>\n",
              "<style scoped>\n",
              "    .dataframe tbody tr th:only-of-type {\n",
              "        vertical-align: middle;\n",
              "    }\n",
              "\n",
              "    .dataframe tbody tr th {\n",
              "        vertical-align: top;\n",
              "    }\n",
              "\n",
              "    .dataframe thead th {\n",
              "        text-align: right;\n",
              "    }\n",
              "</style>\n",
              "<table border=\"1\" class=\"dataframe\">\n",
              "  <thead>\n",
              "    <tr style=\"text-align: right;\">\n",
              "      <th></th>\n",
              "      <th>Idade</th>\n",
              "      <th>RendimentoTotal</th>\n",
              "      <th>Salario</th>\n",
              "      <th>LimitedeCreditoImediato</th>\n",
              "      <th>LimitedoChequeEspecial</th>\n",
              "      <th>Escolaridade_Fundamental_Medio</th>\n",
              "      <th>Escolaridade_Superior_Pos</th>\n",
              "    </tr>\n",
              "  </thead>\n",
              "  <tbody>\n",
              "    <tr>\n",
              "      <th>Idade</th>\n",
              "      <td>1.000000</td>\n",
              "      <td>0.066396</td>\n",
              "      <td>0.063227</td>\n",
              "      <td>0.064149</td>\n",
              "      <td>0.075883</td>\n",
              "      <td>-0.110892</td>\n",
              "      <td>0.110892</td>\n",
              "    </tr>\n",
              "    <tr>\n",
              "      <th>RendimentoTotal</th>\n",
              "      <td>0.066396</td>\n",
              "      <td>1.000000</td>\n",
              "      <td>0.960551</td>\n",
              "      <td>0.031041</td>\n",
              "      <td>0.858120</td>\n",
              "      <td>-0.396191</td>\n",
              "      <td>0.396191</td>\n",
              "    </tr>\n",
              "    <tr>\n",
              "      <th>Salario</th>\n",
              "      <td>0.063227</td>\n",
              "      <td>0.960551</td>\n",
              "      <td>1.000000</td>\n",
              "      <td>0.081792</td>\n",
              "      <td>0.888839</td>\n",
              "      <td>-0.475479</td>\n",
              "      <td>0.475479</td>\n",
              "    </tr>\n",
              "    <tr>\n",
              "      <th>LimitedeCreditoImediato</th>\n",
              "      <td>0.064149</td>\n",
              "      <td>0.031041</td>\n",
              "      <td>0.081792</td>\n",
              "      <td>1.000000</td>\n",
              "      <td>0.226990</td>\n",
              "      <td>-0.259433</td>\n",
              "      <td>0.259433</td>\n",
              "    </tr>\n",
              "    <tr>\n",
              "      <th>LimitedoChequeEspecial</th>\n",
              "      <td>0.075883</td>\n",
              "      <td>0.858120</td>\n",
              "      <td>0.888839</td>\n",
              "      <td>0.226990</td>\n",
              "      <td>1.000000</td>\n",
              "      <td>-0.598310</td>\n",
              "      <td>0.598310</td>\n",
              "    </tr>\n",
              "    <tr>\n",
              "      <th>Escolaridade_Fundamental_Medio</th>\n",
              "      <td>-0.110892</td>\n",
              "      <td>-0.396191</td>\n",
              "      <td>-0.475479</td>\n",
              "      <td>-0.259433</td>\n",
              "      <td>-0.598310</td>\n",
              "      <td>1.000000</td>\n",
              "      <td>-1.000000</td>\n",
              "    </tr>\n",
              "    <tr>\n",
              "      <th>Escolaridade_Superior_Pos</th>\n",
              "      <td>0.110892</td>\n",
              "      <td>0.396191</td>\n",
              "      <td>0.475479</td>\n",
              "      <td>0.259433</td>\n",
              "      <td>0.598310</td>\n",
              "      <td>-1.000000</td>\n",
              "      <td>1.000000</td>\n",
              "    </tr>\n",
              "  </tbody>\n",
              "</table>\n",
              "</div>"
            ],
            "text/plain": [
              "                                   Idade  RendimentoTotal   Salario  \\\n",
              "Idade                           1.000000         0.066396  0.063227   \n",
              "RendimentoTotal                 0.066396         1.000000  0.960551   \n",
              "Salario                         0.063227         0.960551  1.000000   \n",
              "LimitedeCreditoImediato         0.064149         0.031041  0.081792   \n",
              "LimitedoChequeEspecial          0.075883         0.858120  0.888839   \n",
              "Escolaridade_Fundamental_Medio -0.110892        -0.396191 -0.475479   \n",
              "Escolaridade_Superior_Pos       0.110892         0.396191  0.475479   \n",
              "\n",
              "                                LimitedeCreditoImediato  \\\n",
              "Idade                                          0.064149   \n",
              "RendimentoTotal                                0.031041   \n",
              "Salario                                        0.081792   \n",
              "LimitedeCreditoImediato                        1.000000   \n",
              "LimitedoChequeEspecial                         0.226990   \n",
              "Escolaridade_Fundamental_Medio                -0.259433   \n",
              "Escolaridade_Superior_Pos                      0.259433   \n",
              "\n",
              "                                LimitedoChequeEspecial  \\\n",
              "Idade                                         0.075883   \n",
              "RendimentoTotal                               0.858120   \n",
              "Salario                                       0.888839   \n",
              "LimitedeCreditoImediato                       0.226990   \n",
              "LimitedoChequeEspecial                        1.000000   \n",
              "Escolaridade_Fundamental_Medio               -0.598310   \n",
              "Escolaridade_Superior_Pos                     0.598310   \n",
              "\n",
              "                                Escolaridade_Fundamental_Medio  \\\n",
              "Idade                                                -0.110892   \n",
              "RendimentoTotal                                      -0.396191   \n",
              "Salario                                              -0.475479   \n",
              "LimitedeCreditoImediato                              -0.259433   \n",
              "LimitedoChequeEspecial                               -0.598310   \n",
              "Escolaridade_Fundamental_Medio                        1.000000   \n",
              "Escolaridade_Superior_Pos                            -1.000000   \n",
              "\n",
              "                                Escolaridade_Superior_Pos  \n",
              "Idade                                            0.110892  \n",
              "RendimentoTotal                                  0.396191  \n",
              "Salario                                          0.475479  \n",
              "LimitedeCreditoImediato                          0.259433  \n",
              "LimitedoChequeEspecial                           0.598310  \n",
              "Escolaridade_Fundamental_Medio                  -1.000000  \n",
              "Escolaridade_Superior_Pos                        1.000000  "
            ]
          },
          "execution_count": 12,
          "metadata": {},
          "output_type": "execute_result"
        }
      ],
      "source": [
        "df_escolaridade.corr()"
      ]
    },
    {
      "cell_type": "code",
      "execution_count": 13,
      "metadata": {
        "id": "hb7iaPEc5vZ9"
      },
      "outputs": [],
      "source": [
        "import statsmodels.formula.api as smf"
      ]
    },
    {
      "cell_type": "code",
      "execution_count": 14,
      "metadata": {
        "colab": {
          "base_uri": "https://localhost:8080/"
        },
        "id": "FEwBkrx76aj_",
        "outputId": "0932dbf8-bdd9-4b89-da39-feede56a9457"
      },
      "outputs": [
        {
          "name": "stdout",
          "output_type": "stream",
          "text": [
            "                              OLS Regression Results                              \n",
            "==================================================================================\n",
            "Dep. Variable:     LimitedoChequeEspecial   R-squared:                       0.848\n",
            "Model:                                OLS   Adj. R-squared:                  0.830\n",
            "Method:                     Least Squares   F-statistic:                     46.89\n",
            "Date:                    Fri, 07 Jun 2024   Prob (F-statistic):           4.07e-16\n",
            "Time:                            21:21:20   Log-Likelihood:                -441.00\n",
            "No. Observations:                      48   AIC:                             894.0\n",
            "Df Residuals:                          42   BIC:                             905.2\n",
            "Df Model:                               5                                         \n",
            "Covariance Type:                nonrobust                                         \n",
            "==================================================================================================\n",
            "                                     coef    std err          t      P>|t|      [0.025      0.975]\n",
            "--------------------------------------------------------------------------------------------------\n",
            "Intercept                       -509.4948   1248.421     -0.408      0.685   -3028.910    2009.920\n",
            "Idade                             -2.7480     24.707     -0.111      0.912     -52.608      47.112\n",
            "RendimentoTotal                    0.1461      0.109      1.338      0.188      -0.074       0.366\n",
            "Salario                            0.3201      0.154      2.079      0.044       0.009       0.631\n",
            "LimitedeCreditoImediato            0.7979      0.411      1.943      0.059      -0.031       1.627\n",
            "Escolaridade_Fundamental_Medio -1611.3283    619.903     -2.599      0.013   -2862.343    -360.313\n",
            "Escolaridade_Superior_Pos       1101.8335    899.444      1.225      0.227    -713.319    2916.986\n",
            "==============================================================================\n",
            "Omnibus:                        3.246   Durbin-Watson:                   1.979\n",
            "Prob(Omnibus):                  0.197   Jarque-Bera (JB):                2.813\n",
            "Skew:                           0.031   Prob(JB):                        0.245\n",
            "Kurtosis:                       4.184   Cond. No.                     3.53e+20\n",
            "==============================================================================\n",
            "\n",
            "Notes:\n",
            "[1] Standard Errors assume that the covariance matrix of the errors is correctly specified.\n",
            "[2] The smallest eigenvalue is 1.93e-31. This might indicate that there are\n",
            "strong multicollinearity problems or that the design matrix is singular.\n"
          ]
        }
      ],
      "source": [
        "#modelo MRLS\n",
        "function = 'LimitedoChequeEspecial~Idade+RendimentoTotal+Salario+LimitedeCreditoImediato+Escolaridade_Fundamental_Medio+Escolaridade_Superior_Pos'\n",
        "model = smf.ols(formula=function, data=df_escolaridade).fit() \n",
        "print(model.summary())"
      ]
    },
    {
      "cell_type": "code",
      "execution_count": 15,
      "metadata": {
        "colab": {
          "base_uri": "https://localhost:8080/"
        },
        "id": "NQEiD1Lc6i5s",
        "outputId": "6e3e202a-f751-424c-b2aa-abd08f6e1c55"
      },
      "outputs": [
        {
          "name": "stdout",
          "output_type": "stream",
          "text": [
            "                              OLS Regression Results                              \n",
            "==================================================================================\n",
            "Dep. Variable:     LimitedoChequeEspecial   R-squared:                       0.848\n",
            "Model:                                OLS   Adj. R-squared:                  0.834\n",
            "Method:                     Least Squares   F-statistic:                     59.99\n",
            "Date:                    Fri, 07 Jun 2024   Prob (F-statistic):           4.92e-17\n",
            "Time:                            21:21:20   Log-Likelihood:                -441.01\n",
            "No. Observations:                      48   AIC:                             892.0\n",
            "Df Residuals:                          43   BIC:                             901.4\n",
            "Df Model:                               4                                         \n",
            "Covariance Type:                nonrobust                                         \n",
            "==================================================================================================\n",
            "                                     coef    std err          t      P>|t|      [0.025      0.975]\n",
            "--------------------------------------------------------------------------------------------------\n",
            "RendimentoTotal                    0.1455      0.108      1.350      0.184      -0.072       0.363\n",
            "Salario                            0.3208      0.152      2.110      0.041       0.014       0.627\n",
            "LimitedeCreditoImediato            0.7960      0.406      1.962      0.056      -0.022       1.614\n",
            "Escolaridade_Fundamental_Medio -2281.1650    987.653     -2.310      0.026   -4272.957    -289.373\n",
            "Escolaridade_Superior_Pos        423.0286   1409.561      0.300      0.766   -2419.621    3265.678\n",
            "==============================================================================\n",
            "Omnibus:                        3.276   Durbin-Watson:                   1.991\n",
            "Prob(Omnibus):                  0.194   Jarque-Bera (JB):                2.867\n",
            "Skew:                           0.016   Prob(JB):                        0.238\n",
            "Kurtosis:                       4.197   Cond. No.                     1.01e+05\n",
            "==============================================================================\n",
            "\n",
            "Notes:\n",
            "[1] Standard Errors assume that the covariance matrix of the errors is correctly specified.\n",
            "[2] The condition number is large, 1.01e+05. This might indicate that there are\n",
            "strong multicollinearity or other numerical problems.\n"
          ]
        }
      ],
      "source": [
        "#modelo MRLS\n",
        "function = 'LimitedoChequeEspecial~RendimentoTotal+Salario+LimitedeCreditoImediato+Escolaridade_Fundamental_Medio+Escolaridade_Superior_Pos-1'\n",
        "model = smf.ols(formula=function, data=df_escolaridade).fit() \n",
        "print(model.summary())"
      ]
    },
    {
      "cell_type": "code",
      "execution_count": 16,
      "metadata": {
        "colab": {
          "base_uri": "https://localhost:8080/"
        },
        "id": "pB5q8BvW6pXD",
        "outputId": "6f95d759-42d3-47cc-c548-2388d7fd7aae"
      },
      "outputs": [
        {
          "name": "stdout",
          "output_type": "stream",
          "text": [
            "                                   OLS Regression Results                                  \n",
            "===========================================================================================\n",
            "Dep. Variable:     LimitedoChequeEspecial   R-squared (uncentered):                   0.918\n",
            "Model:                                OLS   Adj. R-squared (uncentered):              0.911\n",
            "Method:                     Least Squares   F-statistic:                              123.2\n",
            "Date:                    Fri, 07 Jun 2024   Prob (F-statistic):                    2.66e-23\n",
            "Time:                            21:21:20   Log-Likelihood:                         -441.06\n",
            "No. Observations:                      48   AIC:                                      890.1\n",
            "Df Residuals:                          44   BIC:                                      897.6\n",
            "Df Model:                               4                                                  \n",
            "Covariance Type:                nonrobust                                                  \n",
            "==================================================================================================\n",
            "                                     coef    std err          t      P>|t|      [0.025      0.975]\n",
            "--------------------------------------------------------------------------------------------------\n",
            "RendimentoTotal                    0.1404      0.105      1.333      0.189      -0.072       0.353\n",
            "Salario                            0.3350      0.143      2.342      0.024       0.047       0.623\n",
            "LimitedeCreditoImediato            0.8827      0.282      3.132      0.003       0.315       1.451\n",
            "Escolaridade_Fundamental_Medio -2511.0773    616.877     -4.071      0.000   -3754.312   -1267.843\n",
            "==============================================================================\n",
            "Omnibus:                        3.142   Durbin-Watson:                   2.003\n",
            "Prob(Omnibus):                  0.208   Jarque-Bera (JB):                2.657\n",
            "Skew:                          -0.017   Prob(JB):                        0.265\n",
            "Kurtosis:                       4.152   Cond. No.                     3.87e+04\n",
            "==============================================================================\n",
            "\n",
            "Notes:\n",
            "[1] R² is computed without centering (uncentered) since the model does not contain a constant.\n",
            "[2] Standard Errors assume that the covariance matrix of the errors is correctly specified.\n",
            "[3] The condition number is large, 3.87e+04. This might indicate that there are\n",
            "strong multicollinearity or other numerical problems.\n"
          ]
        }
      ],
      "source": [
        "#modelo MRLS\n",
        "function = 'LimitedoChequeEspecial~RendimentoTotal+Salario+LimitedeCreditoImediato+Escolaridade_Fundamental_Medio-1'\n",
        "model = smf.ols(formula=function, data=df_escolaridade).fit() \n",
        "print(model.summary())"
      ]
    },
    {
      "cell_type": "code",
      "execution_count": 17,
      "metadata": {
        "colab": {
          "base_uri": "https://localhost:8080/"
        },
        "id": "ec0jlRae65VL",
        "outputId": "235c4e05-db0b-4abd-f883-a031eef31396"
      },
      "outputs": [
        {
          "name": "stdout",
          "output_type": "stream",
          "text": [
            "                                   OLS Regression Results                                  \n",
            "===========================================================================================\n",
            "Dep. Variable:     LimitedoChequeEspecial   R-squared (uncentered):                   0.915\n",
            "Model:                                OLS   Adj. R-squared (uncentered):              0.909\n",
            "Method:                     Least Squares   F-statistic:                              160.9\n",
            "Date:                    Fri, 07 Jun 2024   Prob (F-statistic):                    4.57e-24\n",
            "Time:                            21:21:20   Log-Likelihood:                         -442.01\n",
            "No. Observations:                      48   AIC:                                      890.0\n",
            "Df Residuals:                          45   BIC:                                      895.6\n",
            "Df Model:                               3                                                  \n",
            "Covariance Type:                nonrobust                                                  \n",
            "==================================================================================================\n",
            "                                     coef    std err          t      P>|t|      [0.025      0.975]\n",
            "--------------------------------------------------------------------------------------------------\n",
            "Salario                            0.5192      0.037     14.031      0.000       0.445       0.594\n",
            "LimitedeCreditoImediato            0.7588      0.268      2.828      0.007       0.218       1.299\n",
            "Escolaridade_Fundamental_Medio -2390.0248    615.400     -3.884      0.000   -3629.504   -1150.545\n",
            "==============================================================================\n",
            "Omnibus:                        2.678   Durbin-Watson:                   1.961\n",
            "Prob(Omnibus):                  0.262   Jarque-Bera (JB):                1.767\n",
            "Skew:                           0.238   Prob(JB):                        0.413\n",
            "Kurtosis:                       3.811   Cond. No.                     2.41e+04\n",
            "==============================================================================\n",
            "\n",
            "Notes:\n",
            "[1] R² is computed without centering (uncentered) since the model does not contain a constant.\n",
            "[2] Standard Errors assume that the covariance matrix of the errors is correctly specified.\n",
            "[3] The condition number is large, 2.41e+04. This might indicate that there are\n",
            "strong multicollinearity or other numerical problems.\n"
          ]
        }
      ],
      "source": [
        "#modelo MRLS\n",
        "function = 'LimitedoChequeEspecial~Salario+LimitedeCreditoImediato+Escolaridade_Fundamental_Medio-1'\n",
        "model = smf.ols(formula=function, data=df_escolaridade).fit() \n",
        "print(model.summary())"
      ]
    }
  ],
  "metadata": {
    "colab": {
      "provenance": []
    },
    "kernelspec": {
      "display_name": "Python 3",
      "name": "python3"
    },
    "language_info": {
      "codemirror_mode": {
        "name": "ipython",
        "version": 3
      },
      "file_extension": ".py",
      "mimetype": "text/x-python",
      "name": "python",
      "nbconvert_exporter": "python",
      "pygments_lexer": "ipython3",
      "version": "3.9.12"
    }
  },
  "nbformat": 4,
  "nbformat_minor": 0
}
