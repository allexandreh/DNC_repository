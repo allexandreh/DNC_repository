{
  "cells": [
    {
      "cell_type": "code",
      "execution_count": 32,
      "metadata": {
        "id": "R8ESlh_G9Dvi"
      },
      "outputs": [],
      "source": [
        "# Bibliotecas\n",
        "import pandas as pd\n",
        "import numpy as np\n",
        "import seaborn as sns\n",
        "from sklearn.model_selection import train_test_split \n",
        "from sklearn.linear_model import LinearRegression\n",
        "from sklearn import metrics"
      ]
    },
    {
      "cell_type": "code",
      "execution_count": 33,
      "metadata": {
        "colab": {
          "base_uri": "https://localhost:8080/",
          "height": 206
        },
        "id": "-J-Un9WA9JrL",
        "outputId": "d7820a50-6586-4b09-d3f1-17d96e6bb70f"
      },
      "outputs": [
        {
          "data": {
            "text/html": [
              "<div>\n",
              "<style scoped>\n",
              "    .dataframe tbody tr th:only-of-type {\n",
              "        vertical-align: middle;\n",
              "    }\n",
              "\n",
              "    .dataframe tbody tr th {\n",
              "        vertical-align: top;\n",
              "    }\n",
              "\n",
              "    .dataframe thead th {\n",
              "        text-align: right;\n",
              "    }\n",
              "</style>\n",
              "<table border=\"1\" class=\"dataframe\">\n",
              "  <thead>\n",
              "    <tr style=\"text-align: right;\">\n",
              "      <th></th>\n",
              "      <th>Idade</th>\n",
              "      <th>RendimentoTotal</th>\n",
              "      <th>Salario</th>\n",
              "      <th>LimitedeCreditoImediato</th>\n",
              "      <th>Escolaridade</th>\n",
              "      <th>Gênero</th>\n",
              "      <th>Região</th>\n",
              "      <th>LimitedoChequeEspecial</th>\n",
              "    </tr>\n",
              "  </thead>\n",
              "  <tbody>\n",
              "    <tr>\n",
              "      <th>0</th>\n",
              "      <td>70</td>\n",
              "      <td>10736</td>\n",
              "      <td>5214</td>\n",
              "      <td>400</td>\n",
              "      <td>Fundamental_Medio</td>\n",
              "      <td>RJ</td>\n",
              "      <td>F</td>\n",
              "      <td>500</td>\n",
              "    </tr>\n",
              "    <tr>\n",
              "      <th>1</th>\n",
              "      <td>68</td>\n",
              "      <td>5000</td>\n",
              "      <td>5000</td>\n",
              "      <td>380</td>\n",
              "      <td>Fundamental_Medio</td>\n",
              "      <td>RJ</td>\n",
              "      <td>F</td>\n",
              "      <td>600</td>\n",
              "    </tr>\n",
              "    <tr>\n",
              "      <th>2</th>\n",
              "      <td>44</td>\n",
              "      <td>5800</td>\n",
              "      <td>5800</td>\n",
              "      <td>500</td>\n",
              "      <td>Fundamental_Medio</td>\n",
              "      <td>RJ</td>\n",
              "      <td>F</td>\n",
              "      <td>800</td>\n",
              "    </tr>\n",
              "    <tr>\n",
              "      <th>3</th>\n",
              "      <td>72</td>\n",
              "      <td>4300</td>\n",
              "      <td>4300</td>\n",
              "      <td>2000</td>\n",
              "      <td>Fundamental_Medio</td>\n",
              "      <td>RJ</td>\n",
              "      <td>F</td>\n",
              "      <td>1000</td>\n",
              "    </tr>\n",
              "    <tr>\n",
              "      <th>4</th>\n",
              "      <td>75</td>\n",
              "      <td>4400</td>\n",
              "      <td>4400</td>\n",
              "      <td>3000</td>\n",
              "      <td>Fundamental_Medio</td>\n",
              "      <td>RJ</td>\n",
              "      <td>F</td>\n",
              "      <td>1000</td>\n",
              "    </tr>\n",
              "  </tbody>\n",
              "</table>\n",
              "</div>"
            ],
            "text/plain": [
              "   Idade  RendimentoTotal  Salario  LimitedeCreditoImediato  \\\n",
              "0     70            10736     5214                      400   \n",
              "1     68             5000     5000                      380   \n",
              "2     44             5800     5800                      500   \n",
              "3     72             4300     4300                     2000   \n",
              "4     75             4400     4400                     3000   \n",
              "\n",
              "        Escolaridade Gênero Região  LimitedoChequeEspecial  \n",
              "0  Fundamental_Medio     RJ      F                     500  \n",
              "1  Fundamental_Medio     RJ      F                     600  \n",
              "2  Fundamental_Medio     RJ      F                     800  \n",
              "3  Fundamental_Medio     RJ      F                    1000  \n",
              "4  Fundamental_Medio     RJ      F                    1000  "
            ]
          },
          "execution_count": 33,
          "metadata": {},
          "output_type": "execute_result"
        }
      ],
      "source": [
        "#Base\n",
        "limite = pd.read_excel(r\"C:\\Users\\alexa\\OneDrive\\Área de Trabalho\\repositorios_git\\DNC_repository\\exe_regressao_linear_multipla\\regressao_linear_multipla_scikit-learn\\limite_credito_dummy.xlsx\")\n",
        "limite.head()"
      ]
    },
    {
      "cell_type": "code",
      "execution_count": 34,
      "metadata": {
        "colab": {
          "base_uri": "https://localhost:8080/",
          "height": 300
        },
        "id": "SdoAtDjVaQX6",
        "outputId": "57306268-15dc-4821-f331-ccf07b151772"
      },
      "outputs": [
        {
          "data": {
            "text/html": [
              "<div>\n",
              "<style scoped>\n",
              "    .dataframe tbody tr th:only-of-type {\n",
              "        vertical-align: middle;\n",
              "    }\n",
              "\n",
              "    .dataframe tbody tr th {\n",
              "        vertical-align: top;\n",
              "    }\n",
              "\n",
              "    .dataframe thead th {\n",
              "        text-align: right;\n",
              "    }\n",
              "</style>\n",
              "<table border=\"1\" class=\"dataframe\">\n",
              "  <thead>\n",
              "    <tr style=\"text-align: right;\">\n",
              "      <th></th>\n",
              "      <th>Idade</th>\n",
              "      <th>RendimentoTotal</th>\n",
              "      <th>Salario</th>\n",
              "      <th>LimitedeCreditoImediato</th>\n",
              "      <th>LimitedoChequeEspecial</th>\n",
              "    </tr>\n",
              "  </thead>\n",
              "  <tbody>\n",
              "    <tr>\n",
              "      <th>count</th>\n",
              "      <td>48.000000</td>\n",
              "      <td>48.000000</td>\n",
              "      <td>48.000000</td>\n",
              "      <td>48.000000</td>\n",
              "      <td>48.000000</td>\n",
              "    </tr>\n",
              "    <tr>\n",
              "      <th>mean</th>\n",
              "      <td>61.458333</td>\n",
              "      <td>12275.083333</td>\n",
              "      <td>10507.125000</td>\n",
              "      <td>2175.208333</td>\n",
              "      <td>5620.729167</td>\n",
              "    </tr>\n",
              "    <tr>\n",
              "      <th>std</th>\n",
              "      <td>15.284477</td>\n",
              "      <td>12640.654241</td>\n",
              "      <td>9332.173617</td>\n",
              "      <td>938.094469</td>\n",
              "      <td>6131.900367</td>\n",
              "    </tr>\n",
              "    <tr>\n",
              "      <th>min</th>\n",
              "      <td>30.000000</td>\n",
              "      <td>4300.000000</td>\n",
              "      <td>4027.000000</td>\n",
              "      <td>340.000000</td>\n",
              "      <td>500.000000</td>\n",
              "    </tr>\n",
              "    <tr>\n",
              "      <th>25%</th>\n",
              "      <td>47.000000</td>\n",
              "      <td>6380.000000</td>\n",
              "      <td>5950.000000</td>\n",
              "      <td>1925.000000</td>\n",
              "      <td>2262.500000</td>\n",
              "    </tr>\n",
              "    <tr>\n",
              "      <th>50%</th>\n",
              "      <td>66.500000</td>\n",
              "      <td>8400.000000</td>\n",
              "      <td>7400.000000</td>\n",
              "      <td>2000.000000</td>\n",
              "      <td>3550.000000</td>\n",
              "    </tr>\n",
              "    <tr>\n",
              "      <th>75%</th>\n",
              "      <td>70.000000</td>\n",
              "      <td>12378.250000</td>\n",
              "      <td>10163.000000</td>\n",
              "      <td>3000.000000</td>\n",
              "      <td>6500.000000</td>\n",
              "    </tr>\n",
              "    <tr>\n",
              "      <th>max</th>\n",
              "      <td>94.000000</td>\n",
              "      <td>81000.000000</td>\n",
              "      <td>54500.000000</td>\n",
              "      <td>3500.000000</td>\n",
              "      <td>35000.000000</td>\n",
              "    </tr>\n",
              "  </tbody>\n",
              "</table>\n",
              "</div>"
            ],
            "text/plain": [
              "           Idade  RendimentoTotal       Salario  LimitedeCreditoImediato  \\\n",
              "count  48.000000        48.000000     48.000000                48.000000   \n",
              "mean   61.458333     12275.083333  10507.125000              2175.208333   \n",
              "std    15.284477     12640.654241   9332.173617               938.094469   \n",
              "min    30.000000      4300.000000   4027.000000               340.000000   \n",
              "25%    47.000000      6380.000000   5950.000000              1925.000000   \n",
              "50%    66.500000      8400.000000   7400.000000              2000.000000   \n",
              "75%    70.000000     12378.250000  10163.000000              3000.000000   \n",
              "max    94.000000     81000.000000  54500.000000              3500.000000   \n",
              "\n",
              "       LimitedoChequeEspecial  \n",
              "count               48.000000  \n",
              "mean              5620.729167  \n",
              "std               6131.900367  \n",
              "min                500.000000  \n",
              "25%               2262.500000  \n",
              "50%               3550.000000  \n",
              "75%               6500.000000  \n",
              "max              35000.000000  "
            ]
          },
          "execution_count": 34,
          "metadata": {},
          "output_type": "execute_result"
        }
      ],
      "source": [
        "limite.describe()"
      ]
    },
    {
      "cell_type": "code",
      "execution_count": 35,
      "metadata": {
        "colab": {
          "base_uri": "https://localhost:8080/",
          "height": 206
        },
        "id": "e_yR2xQi9qGP",
        "outputId": "bb1ac1cc-fcc1-42e5-b7ec-93a120ef17e0"
      },
      "outputs": [
        {
          "data": {
            "text/html": [
              "<div>\n",
              "<style scoped>\n",
              "    .dataframe tbody tr th:only-of-type {\n",
              "        vertical-align: middle;\n",
              "    }\n",
              "\n",
              "    .dataframe tbody tr th {\n",
              "        vertical-align: top;\n",
              "    }\n",
              "\n",
              "    .dataframe thead th {\n",
              "        text-align: right;\n",
              "    }\n",
              "</style>\n",
              "<table border=\"1\" class=\"dataframe\">\n",
              "  <thead>\n",
              "    <tr style=\"text-align: right;\">\n",
              "      <th></th>\n",
              "      <th>Idade</th>\n",
              "      <th>RendimentoTotal</th>\n",
              "      <th>Salario</th>\n",
              "      <th>LimitedeCreditoImediato</th>\n",
              "      <th>LimitedoChequeEspecial</th>\n",
              "    </tr>\n",
              "  </thead>\n",
              "  <tbody>\n",
              "    <tr>\n",
              "      <th>Idade</th>\n",
              "      <td>1.000000</td>\n",
              "      <td>0.239445</td>\n",
              "      <td>0.213186</td>\n",
              "      <td>0.057183</td>\n",
              "      <td>0.228117</td>\n",
              "    </tr>\n",
              "    <tr>\n",
              "      <th>RendimentoTotal</th>\n",
              "      <td>0.239445</td>\n",
              "      <td>1.000000</td>\n",
              "      <td>0.960551</td>\n",
              "      <td>0.031041</td>\n",
              "      <td>0.858120</td>\n",
              "    </tr>\n",
              "    <tr>\n",
              "      <th>Salario</th>\n",
              "      <td>0.213186</td>\n",
              "      <td>0.960551</td>\n",
              "      <td>1.000000</td>\n",
              "      <td>0.081792</td>\n",
              "      <td>0.888839</td>\n",
              "    </tr>\n",
              "    <tr>\n",
              "      <th>LimitedeCreditoImediato</th>\n",
              "      <td>0.057183</td>\n",
              "      <td>0.031041</td>\n",
              "      <td>0.081792</td>\n",
              "      <td>1.000000</td>\n",
              "      <td>0.226990</td>\n",
              "    </tr>\n",
              "    <tr>\n",
              "      <th>LimitedoChequeEspecial</th>\n",
              "      <td>0.228117</td>\n",
              "      <td>0.858120</td>\n",
              "      <td>0.888839</td>\n",
              "      <td>0.226990</td>\n",
              "      <td>1.000000</td>\n",
              "    </tr>\n",
              "  </tbody>\n",
              "</table>\n",
              "</div>"
            ],
            "text/plain": [
              "                            Idade  RendimentoTotal   Salario  \\\n",
              "Idade                    1.000000         0.239445  0.213186   \n",
              "RendimentoTotal          0.239445         1.000000  0.960551   \n",
              "Salario                  0.213186         0.960551  1.000000   \n",
              "LimitedeCreditoImediato  0.057183         0.031041  0.081792   \n",
              "LimitedoChequeEspecial   0.228117         0.858120  0.888839   \n",
              "\n",
              "                         LimitedeCreditoImediato  LimitedoChequeEspecial  \n",
              "Idade                                   0.057183                0.228117  \n",
              "RendimentoTotal                         0.031041                0.858120  \n",
              "Salario                                 0.081792                0.888839  \n",
              "LimitedeCreditoImediato                 1.000000                0.226990  \n",
              "LimitedoChequeEspecial                  0.226990                1.000000  "
            ]
          },
          "execution_count": 35,
          "metadata": {},
          "output_type": "execute_result"
        }
      ],
      "source": [
        "limite.corr()"
      ]
    },
    {
      "cell_type": "code",
      "execution_count": 36,
      "metadata": {
        "id": "50yGTqjarfo6"
      },
      "outputs": [],
      "source": [
        "from sklearn.preprocessing import LabelEncoder\n",
        "le = LabelEncoder()\n",
        "\n",
        "#escolaridade\n",
        "le.fit(limite.Escolaridade) \n",
        "limite.Escolaridade = le.transform(limite.Escolaridade)\n",
        "\n",
        "# gênero\n",
        "le.fit(limite.Gênero) \n",
        "limite.Gênero = le.transform(limite.Gênero)\n",
        "\n",
        "#regiao\n",
        "le.fit(limite.Região) \n",
        "limite.Região = le.transform(limite.Região)"
      ]
    },
    {
      "cell_type": "code",
      "execution_count": 37,
      "metadata": {
        "colab": {
          "base_uri": "https://localhost:8080/",
          "height": 297
        },
        "id": "s7qWUnunGYtu",
        "outputId": "caa0e9c9-ad96-46db-e5d7-12caeb209c6a"
      },
      "outputs": [
        {
          "data": {
            "text/plain": [
              "<AxesSubplot:xlabel='Idade', ylabel='Count'>"
            ]
          },
          "execution_count": 37,
          "metadata": {},
          "output_type": "execute_result"
        },
        {
          "data": {
            "image/png": "[encoded data removed]",
            "text/plain": [
              "<Figure size 432x288 with 1 Axes>"
            ]
          },
          "metadata": {
            "needs_background": "light"
          },
          "output_type": "display_data"
        }
      ],
      "source": [
        "sns.histplot(limite, x=\"Idade\", kde=True)"
      ]
    },
    {
      "cell_type": "code",
      "execution_count": 38,
      "metadata": {
        "colab": {
          "base_uri": "https://localhost:8080/",
          "height": 297
        },
        "id": "yWXNerQIHNnZ",
        "outputId": "498734a8-a9ba-45b4-f7dd-a581c9052e22"
      },
      "outputs": [
        {
          "data": {
            "text/plain": [
              "<AxesSubplot:xlabel='RendimentoTotal', ylabel='Count'>"
            ]
          },
          "execution_count": 38,
          "metadata": {},
          "output_type": "execute_result"
        },
        {
          "data": {
            "image/png": "[encoded data removed]",
            "text/plain": [
              "<Figure size 432x288 with 1 Axes>"
            ]
          },
          "metadata": {
            "needs_background": "light"
          },
          "output_type": "display_data"
        }
      ],
      "source": [
        "sns.histplot(limite, x=\"RendimentoTotal\",kde=True)"
      ]
    },
    {
      "cell_type": "code",
      "execution_count": 39,
      "metadata": {
        "colab": {
          "base_uri": "https://localhost:8080/",
          "height": 297
        },
        "id": "B6-QfMs0HT5j",
        "outputId": "9fe73c27-0a82-4626-bcd9-68678a240c22"
      },
      "outputs": [
        {
          "data": {
            "text/plain": [
              "<AxesSubplot:xlabel='Salario', ylabel='Count'>"
            ]
          },
          "execution_count": 39,
          "metadata": {},
          "output_type": "execute_result"
        },
        {
          "data": {
            "image/png": "[encoded data removed]",
            "text/plain": [
              "<Figure size 432x288 with 1 Axes>"
            ]
          },
          "metadata": {
            "needs_background": "light"
          },
          "output_type": "display_data"
        }
      ],
      "source": [
        "sns.histplot(limite, x=\"Salario\", kde=True)"
      ]
    },
    {
      "cell_type": "code",
      "execution_count": 40,
      "metadata": {
        "colab": {
          "base_uri": "https://localhost:8080/",
          "height": 297
        },
        "id": "oAXtIDDeHYUp",
        "outputId": "d4d7fedd-600d-4f19-efef-ab5750953580"
      },
      "outputs": [
        {
          "data": {
            "text/plain": [
              "<AxesSubplot:xlabel='LimitedeCreditoImediato', ylabel='Count'>"
            ]
          },
          "execution_count": 40,
          "metadata": {},
          "output_type": "execute_result"
        },
        {
          "data": {
            "image/png": "[encoded data removed]",
            "text/plain": [
              "<Figure size 432x288 with 1 Axes>"
            ]
          },
          "metadata": {
            "needs_background": "light"
          },
          "output_type": "display_data"
        }
      ],
      "source": [
        "sns.histplot(limite, x=\"LimitedeCreditoImediato\", kde=True)"
      ]
    },
    {
      "cell_type": "code",
      "execution_count": 41,
      "metadata": {
        "colab": {
          "base_uri": "https://localhost:8080/",
          "height": 297
        },
        "id": "wNHZ8w9iHcpj",
        "outputId": "e7060458-1dfc-4d60-843f-9daec0a0f7f8"
      },
      "outputs": [
        {
          "data": {
            "text/plain": [
              "<AxesSubplot:xlabel='LimitedoChequeEspecial', ylabel='Count'>"
            ]
          },
          "execution_count": 41,
          "metadata": {},
          "output_type": "execute_result"
        },
        {
          "data": {
            "image/png": "[encoded data removed]",
            "text/plain": [
              "<Figure size 432x288 with 1 Axes>"
            ]
          },
          "metadata": {
            "needs_background": "light"
          },
          "output_type": "display_data"
        }
      ],
      "source": [
        "sns.histplot(limite, x=\"LimitedoChequeEspecial\", kde=True)"
      ]
    },
    {
      "cell_type": "code",
      "execution_count": 42,
      "metadata": {
        "id": "Pdk8BBWUxCJY"
      },
      "outputs": [],
      "source": [
        "from sklearn.preprocessing import MinMaxScaler\n",
        "scaler = MinMaxScaler()\n",
        "\n",
        "\n",
        "limite_norm = pd.DataFrame(scaler.fit_transform(limite), index=limite.index, columns=limite.columns)"
      ]
    },
    {
      "cell_type": "code",
      "execution_count": 43,
      "metadata": {
        "colab": {
          "base_uri": "https://localhost:8080/",
          "height": 206
        },
        "id": "pORGJPurxQpR",
        "outputId": "16406ed6-363c-42c3-9274-86d354666dfc"
      },
      "outputs": [
        {
          "data": {
            "text/html": [
              "<div>\n",
              "<style scoped>\n",
              "    .dataframe tbody tr th:only-of-type {\n",
              "        vertical-align: middle;\n",
              "    }\n",
              "\n",
              "    .dataframe tbody tr th {\n",
              "        vertical-align: top;\n",
              "    }\n",
              "\n",
              "    .dataframe thead th {\n",
              "        text-align: right;\n",
              "    }\n",
              "</style>\n",
              "<table border=\"1\" class=\"dataframe\">\n",
              "  <thead>\n",
              "    <tr style=\"text-align: right;\">\n",
              "      <th></th>\n",
              "      <th>Idade</th>\n",
              "      <th>RendimentoTotal</th>\n",
              "      <th>Salario</th>\n",
              "      <th>LimitedeCreditoImediato</th>\n",
              "      <th>Escolaridade</th>\n",
              "      <th>Gênero</th>\n",
              "      <th>Região</th>\n",
              "      <th>LimitedoChequeEspecial</th>\n",
              "    </tr>\n",
              "  </thead>\n",
              "  <tbody>\n",
              "    <tr>\n",
              "      <th>0</th>\n",
              "      <td>0.625000</td>\n",
              "      <td>0.083911</td>\n",
              "      <td>0.023518</td>\n",
              "      <td>0.018987</td>\n",
              "      <td>0.0</td>\n",
              "      <td>0.0</td>\n",
              "      <td>0.0</td>\n",
              "      <td>0.000000</td>\n",
              "    </tr>\n",
              "    <tr>\n",
              "      <th>1</th>\n",
              "      <td>0.593750</td>\n",
              "      <td>0.009126</td>\n",
              "      <td>0.019278</td>\n",
              "      <td>0.012658</td>\n",
              "      <td>0.0</td>\n",
              "      <td>0.0</td>\n",
              "      <td>0.0</td>\n",
              "      <td>0.002899</td>\n",
              "    </tr>\n",
              "    <tr>\n",
              "      <th>2</th>\n",
              "      <td>0.218750</td>\n",
              "      <td>0.019557</td>\n",
              "      <td>0.035128</td>\n",
              "      <td>0.050633</td>\n",
              "      <td>0.0</td>\n",
              "      <td>0.0</td>\n",
              "      <td>0.0</td>\n",
              "      <td>0.008696</td>\n",
              "    </tr>\n",
              "    <tr>\n",
              "      <th>3</th>\n",
              "      <td>0.656250</td>\n",
              "      <td>0.000000</td>\n",
              "      <td>0.005409</td>\n",
              "      <td>0.525316</td>\n",
              "      <td>0.0</td>\n",
              "      <td>0.0</td>\n",
              "      <td>0.0</td>\n",
              "      <td>0.014493</td>\n",
              "    </tr>\n",
              "    <tr>\n",
              "      <th>4</th>\n",
              "      <td>0.703125</td>\n",
              "      <td>0.001304</td>\n",
              "      <td>0.007390</td>\n",
              "      <td>0.841772</td>\n",
              "      <td>0.0</td>\n",
              "      <td>0.0</td>\n",
              "      <td>0.0</td>\n",
              "      <td>0.014493</td>\n",
              "    </tr>\n",
              "  </tbody>\n",
              "</table>\n",
              "</div>"
            ],
            "text/plain": [
              "      Idade  RendimentoTotal   Salario  LimitedeCreditoImediato  Escolaridade  \\\n",
              "0  0.625000         0.083911  0.023518                 0.018987           0.0   \n",
              "1  0.593750         0.009126  0.019278                 0.012658           0.0   \n",
              "2  0.218750         0.019557  0.035128                 0.050633           0.0   \n",
              "3  0.656250         0.000000  0.005409                 0.525316           0.0   \n",
              "4  0.703125         0.001304  0.007390                 0.841772           0.0   \n",
              "\n",
              "   Gênero  Região  LimitedoChequeEspecial  \n",
              "0     0.0     0.0                0.000000  \n",
              "1     0.0     0.0                0.002899  \n",
              "2     0.0     0.0                0.008696  \n",
              "3     0.0     0.0                0.014493  \n",
              "4     0.0     0.0                0.014493  "
            ]
          },
          "execution_count": 43,
          "metadata": {},
          "output_type": "execute_result"
        }
      ],
      "source": [
        "limite_norm.head()"
      ]
    },
    {
      "cell_type": "code",
      "execution_count": 44,
      "metadata": {
        "id": "kwC3vO7Wb1R0"
      },
      "outputs": [],
      "source": [
        "from sklearn.preprocessing import StandardScaler\n",
        "scaler = StandardScaler()\n",
        "\n",
        "\n",
        "limite_norm = pd.DataFrame(scaler.fit_transform(limite), index=limite.index, columns=limite.columns)"
      ]
    },
    {
      "cell_type": "code",
      "execution_count": 45,
      "metadata": {
        "colab": {
          "base_uri": "https://localhost:8080/",
          "height": 206
        },
        "id": "M6yaMeU7b8Jm",
        "outputId": "40de31e3-3531-42d3-968e-1d5f23a7b6d9"
      },
      "outputs": [
        {
          "data": {
            "text/html": [
              "<div>\n",
              "<style scoped>\n",
              "    .dataframe tbody tr th:only-of-type {\n",
              "        vertical-align: middle;\n",
              "    }\n",
              "\n",
              "    .dataframe tbody tr th {\n",
              "        vertical-align: top;\n",
              "    }\n",
              "\n",
              "    .dataframe thead th {\n",
              "        text-align: right;\n",
              "    }\n",
              "</style>\n",
              "<table border=\"1\" class=\"dataframe\">\n",
              "  <thead>\n",
              "    <tr style=\"text-align: right;\">\n",
              "      <th></th>\n",
              "      <th>Idade</th>\n",
              "      <th>RendimentoTotal</th>\n",
              "      <th>Salario</th>\n",
              "      <th>LimitedeCreditoImediato</th>\n",
              "      <th>Escolaridade</th>\n",
              "      <th>Gênero</th>\n",
              "      <th>Região</th>\n",
              "      <th>LimitedoChequeEspecial</th>\n",
              "    </tr>\n",
              "  </thead>\n",
              "  <tbody>\n",
              "    <tr>\n",
              "      <th>0</th>\n",
              "      <td>0.564760</td>\n",
              "      <td>-0.123045</td>\n",
              "      <td>-0.573193</td>\n",
              "      <td>-1.912381</td>\n",
              "      <td>-0.774597</td>\n",
              "      <td>-0.919866</td>\n",
              "      <td>-1.0</td>\n",
              "      <td>-0.843934</td>\n",
              "    </tr>\n",
              "    <tr>\n",
              "      <th>1</th>\n",
              "      <td>0.432523</td>\n",
              "      <td>-0.581621</td>\n",
              "      <td>-0.596367</td>\n",
              "      <td>-1.933927</td>\n",
              "      <td>-0.774597</td>\n",
              "      <td>-0.919866</td>\n",
              "      <td>-1.0</td>\n",
              "      <td>-0.827453</td>\n",
              "    </tr>\n",
              "    <tr>\n",
              "      <th>2</th>\n",
              "      <td>-1.154314</td>\n",
              "      <td>-0.517663</td>\n",
              "      <td>-0.509735</td>\n",
              "      <td>-1.804654</td>\n",
              "      <td>-0.774597</td>\n",
              "      <td>-0.919866</td>\n",
              "      <td>-1.0</td>\n",
              "      <td>-0.794492</td>\n",
              "    </tr>\n",
              "    <tr>\n",
              "      <th>3</th>\n",
              "      <td>0.696996</td>\n",
              "      <td>-0.637584</td>\n",
              "      <td>-0.672170</td>\n",
              "      <td>-0.188747</td>\n",
              "      <td>-0.774597</td>\n",
              "      <td>-0.919866</td>\n",
              "      <td>-1.0</td>\n",
              "      <td>-0.761530</td>\n",
              "    </tr>\n",
              "    <tr>\n",
              "      <th>4</th>\n",
              "      <td>0.895351</td>\n",
              "      <td>-0.629589</td>\n",
              "      <td>-0.661341</td>\n",
              "      <td>0.888524</td>\n",
              "      <td>-0.774597</td>\n",
              "      <td>-0.919866</td>\n",
              "      <td>-1.0</td>\n",
              "      <td>-0.761530</td>\n",
              "    </tr>\n",
              "  </tbody>\n",
              "</table>\n",
              "</div>"
            ],
            "text/plain": [
              "      Idade  RendimentoTotal   Salario  LimitedeCreditoImediato  Escolaridade  \\\n",
              "0  0.564760        -0.123045 -0.573193                -1.912381     -0.774597   \n",
              "1  0.432523        -0.581621 -0.596367                -1.933927     -0.774597   \n",
              "2 -1.154314        -0.517663 -0.509735                -1.804654     -0.774597   \n",
              "3  0.696996        -0.637584 -0.672170                -0.188747     -0.774597   \n",
              "4  0.895351        -0.629589 -0.661341                 0.888524     -0.774597   \n",
              "\n",
              "     Gênero  Região  LimitedoChequeEspecial  \n",
              "0 -0.919866    -1.0               -0.843934  \n",
              "1 -0.919866    -1.0               -0.827453  \n",
              "2 -0.919866    -1.0               -0.794492  \n",
              "3 -0.919866    -1.0               -0.761530  \n",
              "4 -0.919866    -1.0               -0.761530  "
            ]
          },
          "execution_count": 45,
          "metadata": {},
          "output_type": "execute_result"
        }
      ],
      "source": [
        "limite_norm.head()"
      ]
    },
    {
      "cell_type": "code",
      "execution_count": 46,
      "metadata": {
        "colab": {
          "base_uri": "https://localhost:8080/",
          "height": 297
        },
        "id": "WzJdCaKFHlfA",
        "outputId": "dac64c1f-9706-4819-ae90-c4eda5415e65"
      },
      "outputs": [
        {
          "data": {
            "text/plain": [
              "<AxesSubplot:xlabel='Idade', ylabel='Count'>"
            ]
          },
          "execution_count": 46,
          "metadata": {},
          "output_type": "execute_result"
        },
        {
          "data": {
            "image/png": "[encoded data removed]",
            "text/plain": [
              "<Figure size 432x288 with 1 Axes>"
            ]
          },
          "metadata": {
            "needs_background": "light"
          },
          "output_type": "display_data"
        }
      ],
      "source": [
        "sns.histplot(limite_norm, x=\"Idade\", kde=True)"
      ]
    },
    {
      "cell_type": "code",
      "execution_count": 47,
      "metadata": {
        "colab": {
          "base_uri": "https://localhost:8080/",
          "height": 297
        },
        "id": "MY-oIYCKH4dz",
        "outputId": "91208d52-54d6-484a-b6a3-0e65ee3e8e2b"
      },
      "outputs": [
        {
          "data": {
            "text/plain": [
              "<AxesSubplot:xlabel='RendimentoTotal', ylabel='Count'>"
            ]
          },
          "execution_count": 47,
          "metadata": {},
          "output_type": "execute_result"
        },
        {
          "data": {
            "image/png": "[encoded data removed]",
            "text/plain": [
              "<Figure size 432x288 with 1 Axes>"
            ]
          },
          "metadata": {
            "needs_background": "light"
          },
          "output_type": "display_data"
        }
      ],
      "source": [
        "sns.histplot(limite_norm, x=\"RendimentoTotal\", kde=True)"
      ]
    },
    {
      "cell_type": "code",
      "execution_count": 48,
      "metadata": {
        "colab": {
          "base_uri": "https://localhost:8080/",
          "height": 297
        },
        "id": "sIC7j2TMJNWj",
        "outputId": "e4e86cb2-41f9-485c-f877-292d749da77a"
      },
      "outputs": [
        {
          "data": {
            "text/plain": [
              "<AxesSubplot:xlabel='Salario', ylabel='Count'>"
            ]
          },
          "execution_count": 48,
          "metadata": {},
          "output_type": "execute_result"
        },
        {
          "data": {
            "image/png": "[encoded data removed]",
            "text/plain": [
              "<Figure size 432x288 with 1 Axes>"
            ]
          },
          "metadata": {
            "needs_background": "light"
          },
          "output_type": "display_data"
        }
      ],
      "source": [
        "sns.histplot(limite_norm, x=\"Salario\", kde=True)"
      ]
    },
    {
      "cell_type": "code",
      "execution_count": 49,
      "metadata": {
        "colab": {
          "base_uri": "https://localhost:8080/",
          "height": 297
        },
        "id": "teUHS3tgJSma",
        "outputId": "9f747349-feb3-49da-c555-14e1b164f87f"
      },
      "outputs": [
        {
          "data": {
            "text/plain": [
              "<AxesSubplot:xlabel='LimitedeCreditoImediato', ylabel='Count'>"
            ]
          },
          "execution_count": 49,
          "metadata": {},
          "output_type": "execute_result"
        },
        {
          "data": {
            "image/png": "[encoded data removed]",
            "text/plain": [
              "<Figure size 432x288 with 1 Axes>"
            ]
          },
          "metadata": {
            "needs_background": "light"
          },
          "output_type": "display_data"
        }
      ],
      "source": [
        "sns.histplot(limite_norm, x=\"LimitedeCreditoImediato\", kde=True)"
      ]
    },
    {
      "cell_type": "code",
      "execution_count": 50,
      "metadata": {
        "colab": {
          "base_uri": "https://localhost:8080/",
          "height": 300
        },
        "id": "CYxJXhyTJg2m",
        "outputId": "3466c183-4033-4155-ead5-e4efd3683f20"
      },
      "outputs": [
        {
          "data": {
            "text/html": [
              "<div>\n",
              "<style scoped>\n",
              "    .dataframe tbody tr th:only-of-type {\n",
              "        vertical-align: middle;\n",
              "    }\n",
              "\n",
              "    .dataframe tbody tr th {\n",
              "        vertical-align: top;\n",
              "    }\n",
              "\n",
              "    .dataframe thead th {\n",
              "        text-align: right;\n",
              "    }\n",
              "</style>\n",
              "<table border=\"1\" class=\"dataframe\">\n",
              "  <thead>\n",
              "    <tr style=\"text-align: right;\">\n",
              "      <th></th>\n",
              "      <th>Idade</th>\n",
              "      <th>RendimentoTotal</th>\n",
              "      <th>Salario</th>\n",
              "      <th>LimitedeCreditoImediato</th>\n",
              "      <th>Escolaridade</th>\n",
              "      <th>Gênero</th>\n",
              "      <th>Região</th>\n",
              "      <th>LimitedoChequeEspecial</th>\n",
              "    </tr>\n",
              "  </thead>\n",
              "  <tbody>\n",
              "    <tr>\n",
              "      <th>count</th>\n",
              "      <td>48.000000</td>\n",
              "      <td>48.000000</td>\n",
              "      <td>48.000000</td>\n",
              "      <td>48.000000</td>\n",
              "      <td>48.000000</td>\n",
              "      <td>48.000000</td>\n",
              "      <td>48.000000</td>\n",
              "      <td>48.000000</td>\n",
              "    </tr>\n",
              "    <tr>\n",
              "      <th>mean</th>\n",
              "      <td>61.458333</td>\n",
              "      <td>12275.083333</td>\n",
              "      <td>10507.125000</td>\n",
              "      <td>2175.208333</td>\n",
              "      <td>0.375000</td>\n",
              "      <td>0.458333</td>\n",
              "      <td>0.500000</td>\n",
              "      <td>5620.729167</td>\n",
              "    </tr>\n",
              "    <tr>\n",
              "      <th>std</th>\n",
              "      <td>15.284477</td>\n",
              "      <td>12640.654241</td>\n",
              "      <td>9332.173617</td>\n",
              "      <td>938.094469</td>\n",
              "      <td>0.489246</td>\n",
              "      <td>0.503534</td>\n",
              "      <td>0.505291</td>\n",
              "      <td>6131.900367</td>\n",
              "    </tr>\n",
              "    <tr>\n",
              "      <th>min</th>\n",
              "      <td>30.000000</td>\n",
              "      <td>4300.000000</td>\n",
              "      <td>4027.000000</td>\n",
              "      <td>340.000000</td>\n",
              "      <td>0.000000</td>\n",
              "      <td>0.000000</td>\n",
              "      <td>0.000000</td>\n",
              "      <td>500.000000</td>\n",
              "    </tr>\n",
              "    <tr>\n",
              "      <th>25%</th>\n",
              "      <td>47.000000</td>\n",
              "      <td>6380.000000</td>\n",
              "      <td>5950.000000</td>\n",
              "      <td>1925.000000</td>\n",
              "      <td>0.000000</td>\n",
              "      <td>0.000000</td>\n",
              "      <td>0.000000</td>\n",
              "      <td>2262.500000</td>\n",
              "    </tr>\n",
              "    <tr>\n",
              "      <th>50%</th>\n",
              "      <td>66.500000</td>\n",
              "      <td>8400.000000</td>\n",
              "      <td>7400.000000</td>\n",
              "      <td>2000.000000</td>\n",
              "      <td>0.000000</td>\n",
              "      <td>0.000000</td>\n",
              "      <td>0.500000</td>\n",
              "      <td>3550.000000</td>\n",
              "    </tr>\n",
              "    <tr>\n",
              "      <th>75%</th>\n",
              "      <td>70.000000</td>\n",
              "      <td>12378.250000</td>\n",
              "      <td>10163.000000</td>\n",
              "      <td>3000.000000</td>\n",
              "      <td>1.000000</td>\n",
              "      <td>1.000000</td>\n",
              "      <td>1.000000</td>\n",
              "      <td>6500.000000</td>\n",
              "    </tr>\n",
              "    <tr>\n",
              "      <th>max</th>\n",
              "      <td>94.000000</td>\n",
              "      <td>81000.000000</td>\n",
              "      <td>54500.000000</td>\n",
              "      <td>3500.000000</td>\n",
              "      <td>1.000000</td>\n",
              "      <td>1.000000</td>\n",
              "      <td>1.000000</td>\n",
              "      <td>35000.000000</td>\n",
              "    </tr>\n",
              "  </tbody>\n",
              "</table>\n",
              "</div>"
            ],
            "text/plain": [
              "           Idade  RendimentoTotal       Salario  LimitedeCreditoImediato  \\\n",
              "count  48.000000        48.000000     48.000000                48.000000   \n",
              "mean   61.458333     12275.083333  10507.125000              2175.208333   \n",
              "std    15.284477     12640.654241   9332.173617               938.094469   \n",
              "min    30.000000      4300.000000   4027.000000               340.000000   \n",
              "25%    47.000000      6380.000000   5950.000000              1925.000000   \n",
              "50%    66.500000      8400.000000   7400.000000              2000.000000   \n",
              "75%    70.000000     12378.250000  10163.000000              3000.000000   \n",
              "max    94.000000     81000.000000  54500.000000              3500.000000   \n",
              "\n",
              "       Escolaridade     Gênero     Região  LimitedoChequeEspecial  \n",
              "count     48.000000  48.000000  48.000000               48.000000  \n",
              "mean       0.375000   0.458333   0.500000             5620.729167  \n",
              "std        0.489246   0.503534   0.505291             6131.900367  \n",
              "min        0.000000   0.000000   0.000000              500.000000  \n",
              "25%        0.000000   0.000000   0.000000             2262.500000  \n",
              "50%        0.000000   0.000000   0.500000             3550.000000  \n",
              "75%        1.000000   1.000000   1.000000             6500.000000  \n",
              "max        1.000000   1.000000   1.000000            35000.000000  "
            ]
          },
          "execution_count": 50,
          "metadata": {},
          "output_type": "execute_result"
        }
      ],
      "source": [
        "limite.describe()"
      ]
    },
    {
      "cell_type": "code",
      "execution_count": 51,
      "metadata": {
        "colab": {
          "base_uri": "https://localhost:8080/",
          "height": 300
        },
        "id": "6ZJAheD5JX7G",
        "outputId": "d07950d2-083c-42b9-8a34-ca515acdedca"
      },
      "outputs": [
        {
          "data": {
            "text/html": [
              "<div>\n",
              "<style scoped>\n",
              "    .dataframe tbody tr th:only-of-type {\n",
              "        vertical-align: middle;\n",
              "    }\n",
              "\n",
              "    .dataframe tbody tr th {\n",
              "        vertical-align: top;\n",
              "    }\n",
              "\n",
              "    .dataframe thead th {\n",
              "        text-align: right;\n",
              "    }\n",
              "</style>\n",
              "<table border=\"1\" class=\"dataframe\">\n",
              "  <thead>\n",
              "    <tr style=\"text-align: right;\">\n",
              "      <th></th>\n",
              "      <th>Idade</th>\n",
              "      <th>RendimentoTotal</th>\n",
              "      <th>Salario</th>\n",
              "      <th>LimitedeCreditoImediato</th>\n",
              "      <th>Escolaridade</th>\n",
              "      <th>Gênero</th>\n",
              "      <th>Região</th>\n",
              "      <th>LimitedoChequeEspecial</th>\n",
              "    </tr>\n",
              "  </thead>\n",
              "  <tbody>\n",
              "    <tr>\n",
              "      <th>count</th>\n",
              "      <td>4.800000e+01</td>\n",
              "      <td>4.800000e+01</td>\n",
              "      <td>4.800000e+01</td>\n",
              "      <td>4.800000e+01</td>\n",
              "      <td>4.800000e+01</td>\n",
              "      <td>4.800000e+01</td>\n",
              "      <td>48.000000</td>\n",
              "      <td>4.800000e+01</td>\n",
              "    </tr>\n",
              "    <tr>\n",
              "      <th>mean</th>\n",
              "      <td>-1.249001e-16</td>\n",
              "      <td>-3.700743e-17</td>\n",
              "      <td>7.401487e-17</td>\n",
              "      <td>-1.844589e-16</td>\n",
              "      <td>2.312965e-16</td>\n",
              "      <td>2.035409e-16</td>\n",
              "      <td>0.000000</td>\n",
              "      <td>1.665335e-16</td>\n",
              "    </tr>\n",
              "    <tr>\n",
              "      <th>std</th>\n",
              "      <td>1.010582e+00</td>\n",
              "      <td>1.010582e+00</td>\n",
              "      <td>1.010582e+00</td>\n",
              "      <td>1.010582e+00</td>\n",
              "      <td>1.010582e+00</td>\n",
              "      <td>1.010582e+00</td>\n",
              "      <td>1.010582</td>\n",
              "      <td>1.010582e+00</td>\n",
              "    </tr>\n",
              "    <tr>\n",
              "      <th>min</th>\n",
              "      <td>-2.079969e+00</td>\n",
              "      <td>-6.375839e-01</td>\n",
              "      <td>-7.017336e-01</td>\n",
              "      <td>-1.977017e+00</td>\n",
              "      <td>-7.745967e-01</td>\n",
              "      <td>-9.198662e-01</td>\n",
              "      <td>-1.000000</td>\n",
              "      <td>-8.439339e-01</td>\n",
              "    </tr>\n",
              "    <tr>\n",
              "      <th>25%</th>\n",
              "      <td>-9.559591e-01</td>\n",
              "      <td>-4.712942e-01</td>\n",
              "      <td>-4.934917e-01</td>\n",
              "      <td>-2.695423e-01</td>\n",
              "      <td>-7.745967e-01</td>\n",
              "      <td>-9.198662e-01</td>\n",
              "      <td>-1.000000</td>\n",
              "      <td>-5.534609e-01</td>\n",
              "    </tr>\n",
              "    <tr>\n",
              "      <th>50%</th>\n",
              "      <td>3.333460e-01</td>\n",
              "      <td>-3.098013e-01</td>\n",
              "      <td>-3.364710e-01</td>\n",
              "      <td>-1.887469e-01</td>\n",
              "      <td>-7.745967e-01</td>\n",
              "      <td>-9.198662e-01</td>\n",
              "      <td>0.000000</td>\n",
              "      <td>-3.412714e-01</td>\n",
              "    </tr>\n",
              "    <tr>\n",
              "      <th>75%</th>\n",
              "      <td>5.647597e-01</td>\n",
              "      <td>8.247865e-03</td>\n",
              "      <td>-3.726534e-02</td>\n",
              "      <td>8.885244e-01</td>\n",
              "      <td>1.290994e+00</td>\n",
              "      <td>1.087115e+00</td>\n",
              "      <td>1.000000</td>\n",
              "      <td>1.449103e-01</td>\n",
              "    </tr>\n",
              "    <tr>\n",
              "      <th>max</th>\n",
              "      <td>2.151597e+00</td>\n",
              "      <td>5.494350e+00</td>\n",
              "      <td>4.763994e+00</td>\n",
              "      <td>1.427160e+00</td>\n",
              "      <td>1.290994e+00</td>\n",
              "      <td>1.087115e+00</td>\n",
              "      <td>1.000000</td>\n",
              "      <td>4.841920e+00</td>\n",
              "    </tr>\n",
              "  </tbody>\n",
              "</table>\n",
              "</div>"
            ],
            "text/plain": [
              "              Idade  RendimentoTotal       Salario  LimitedeCreditoImediato  \\\n",
              "count  4.800000e+01     4.800000e+01  4.800000e+01             4.800000e+01   \n",
              "mean  -1.249001e-16    -3.700743e-17  7.401487e-17            -1.844589e-16   \n",
              "std    1.010582e+00     1.010582e+00  1.010582e+00             1.010582e+00   \n",
              "min   -2.079969e+00    -6.375839e-01 -7.017336e-01            -1.977017e+00   \n",
              "25%   -9.559591e-01    -4.712942e-01 -4.934917e-01            -2.695423e-01   \n",
              "50%    3.333460e-01    -3.098013e-01 -3.364710e-01            -1.887469e-01   \n",
              "75%    5.647597e-01     8.247865e-03 -3.726534e-02             8.885244e-01   \n",
              "max    2.151597e+00     5.494350e+00  4.763994e+00             1.427160e+00   \n",
              "\n",
              "       Escolaridade        Gênero     Região  LimitedoChequeEspecial  \n",
              "count  4.800000e+01  4.800000e+01  48.000000            4.800000e+01  \n",
              "mean   2.312965e-16  2.035409e-16   0.000000            1.665335e-16  \n",
              "std    1.010582e+00  1.010582e+00   1.010582            1.010582e+00  \n",
              "min   -7.745967e-01 -9.198662e-01  -1.000000           -8.439339e-01  \n",
              "25%   -7.745967e-01 -9.198662e-01  -1.000000           -5.534609e-01  \n",
              "50%   -7.745967e-01 -9.198662e-01   0.000000           -3.412714e-01  \n",
              "75%    1.290994e+00  1.087115e+00   1.000000            1.449103e-01  \n",
              "max    1.290994e+00  1.087115e+00   1.000000            4.841920e+00  "
            ]
          },
          "execution_count": 51,
          "metadata": {},
          "output_type": "execute_result"
        }
      ],
      "source": [
        "limite_norm.describe()"
      ]
    },
    {
      "cell_type": "code",
      "execution_count": 52,
      "metadata": {
        "id": "o_pLDfZ1-h1a"
      },
      "outputs": [],
      "source": [
        "import statsmodels.formula.api as smf"
      ]
    },
    {
      "cell_type": "code",
      "execution_count": 53,
      "metadata": {
        "colab": {
          "base_uri": "https://localhost:8080/"
        },
        "id": "Fh8EdPBC-j6Z",
        "outputId": "b0ada217-972c-4e00-8453-60f5f1b322a4"
      },
      "outputs": [
        {
          "name": "stdout",
          "output_type": "stream",
          "text": [
            "                              OLS Regression Results                              \n",
            "==================================================================================\n",
            "Dep. Variable:     LimitedoChequeEspecial   R-squared:                       0.886\n",
            "Model:                                OLS   Adj. R-squared:                  0.865\n",
            "Method:                     Least Squares   F-statistic:                     44.20\n",
            "Date:                    Tue, 30 Jul 2024   Prob (F-statistic):           7.44e-17\n",
            "Time:                            10:41:37   Log-Likelihood:                -16.095\n",
            "No. Observations:                      48   AIC:                             48.19\n",
            "Df Residuals:                          40   BIC:                             63.16\n",
            "Df Model:                               7                                         \n",
            "Covariance Type:                nonrobust                                         \n",
            "===========================================================================================\n",
            "                              coef    std err          t      P>|t|      [0.025      0.975]\n",
            "-------------------------------------------------------------------------------------------\n",
            "Intercept               -1.318e-16      0.054  -2.46e-15      1.000      -0.108       0.108\n",
            "Idade                      -0.0124      0.056     -0.220      0.827      -0.127       0.102\n",
            "RendimentoTotal             0.2791      0.209      1.336      0.189      -0.143       0.701\n",
            "Salario                     0.4260      0.215      1.977      0.055      -0.010       0.861\n",
            "LimitedeCreditoImediato     0.0373      0.063      0.589      0.559      -0.091       0.165\n",
            "Escolaridade                0.0675      0.078      0.867      0.391      -0.090       0.225\n",
            "Região                      0.2729      0.087      3.153      0.003       0.098       0.448\n",
            "Gênero                      0.1916      0.064      2.974      0.005       0.061       0.322\n",
            "==============================================================================\n",
            "Omnibus:                       15.742   Durbin-Watson:                   1.724\n",
            "Prob(Omnibus):                  0.000   Jarque-Bera (JB):               41.550\n",
            "Skew:                          -0.679   Prob(JB):                     9.50e-10\n",
            "Kurtosis:                       7.351   Cond. No.                         9.42\n",
            "==============================================================================\n",
            "\n",
            "Notes:\n",
            "[1] Standard Errors assume that the covariance matrix of the errors is correctly specified.\n"
          ]
        }
      ],
      "source": [
        "#modelo MRLS\n",
        "function = 'LimitedoChequeEspecial~Idade+RendimentoTotal+Salario+LimitedeCreditoImediato+Escolaridade+Região+Gênero'\n",
        "model = smf.ols(formula=function, data=limite_norm).fit() \n",
        "print(model.summary())"
      ]
    },
    {
      "cell_type": "code",
      "execution_count": 54,
      "metadata": {
        "colab": {
          "base_uri": "https://localhost:8080/"
        },
        "id": "UeCCNoyc-w5l",
        "outputId": "364a4458-52d0-4ec1-b3b4-ca24d01e2f90"
      },
      "outputs": [
        {
          "name": "stdout",
          "output_type": "stream",
          "text": [
            "                              OLS Regression Results                              \n",
            "==================================================================================\n",
            "Dep. Variable:     LimitedoChequeEspecial   R-squared:                       0.885\n",
            "Model:                                OLS   Adj. R-squared:                  0.869\n",
            "Method:                     Least Squares   F-statistic:                     52.78\n",
            "Date:                    Tue, 30 Jul 2024   Prob (F-statistic):           9.97e-18\n",
            "Time:                            10:41:37   Log-Likelihood:                -16.124\n",
            "No. Observations:                      48   AIC:                             46.25\n",
            "Df Residuals:                          41   BIC:                             59.35\n",
            "Df Model:                               6                                         \n",
            "Covariance Type:                nonrobust                                         \n",
            "===========================================================================================\n",
            "                              coef    std err          t      P>|t|      [0.025      0.975]\n",
            "-------------------------------------------------------------------------------------------\n",
            "Intercept               -1.318e-16      0.053  -2.49e-15      1.000      -0.107       0.107\n",
            "RendimentoTotal             0.2711      0.203      1.334      0.190      -0.139       0.682\n",
            "Salario                     0.4323      0.211      2.048      0.047       0.006       0.859\n",
            "LimitedeCreditoImediato     0.0369      0.063      0.589      0.559      -0.090       0.163\n",
            "Escolaridade                0.0670      0.077      0.872      0.388      -0.088       0.222\n",
            "Região                      0.2720      0.085      3.183      0.003       0.099       0.445\n",
            "Gênero                      0.1890      0.063      3.019      0.004       0.063       0.315\n",
            "==============================================================================\n",
            "Omnibus:                       15.771   Durbin-Watson:                   1.746\n",
            "Prob(Omnibus):                  0.000   Jarque-Bera (JB):               41.413\n",
            "Skew:                          -0.684   Prob(JB):                     1.02e-09\n",
            "Kurtosis:                       7.340   Cond. No.                         9.16\n",
            "==============================================================================\n",
            "\n",
            "Notes:\n",
            "[1] Standard Errors assume that the covariance matrix of the errors is correctly specified.\n"
          ]
        }
      ],
      "source": [
        "#modelo MRLS\n",
        "function = 'LimitedoChequeEspecial~RendimentoTotal+Salario+LimitedeCreditoImediato+Escolaridade+Região+Gênero'\n",
        "model = smf.ols(formula=function, data=limite_norm).fit() \n",
        "print(model.summary())"
      ]
    },
    {
      "cell_type": "code",
      "execution_count": 55,
      "metadata": {
        "colab": {
          "base_uri": "https://localhost:8080/"
        },
        "id": "7uUM4sxh-2pC",
        "outputId": "aba64951-f30f-4af2-c85d-a0c5bbb3f98b"
      },
      "outputs": [
        {
          "name": "stdout",
          "output_type": "stream",
          "text": [
            "                              OLS Regression Results                              \n",
            "==================================================================================\n",
            "Dep. Variable:     LimitedoChequeEspecial   R-squared:                       0.884\n",
            "Model:                                OLS   Adj. R-squared:                  0.871\n",
            "Method:                     Least Squares   F-statistic:                     64.26\n",
            "Date:                    Tue, 30 Jul 2024   Prob (F-statistic):           1.39e-18\n",
            "Time:                            10:41:37   Log-Likelihood:                -16.326\n",
            "No. Observations:                      48   AIC:                             44.65\n",
            "Df Residuals:                          42   BIC:                             55.88\n",
            "Df Model:                               5                                         \n",
            "Covariance Type:                nonrobust                                         \n",
            "===================================================================================\n",
            "                      coef    std err          t      P>|t|      [0.025      0.975]\n",
            "-----------------------------------------------------------------------------------\n",
            "Intercept       -1.318e-16      0.052  -2.51e-15      1.000      -0.106       0.106\n",
            "RendimentoTotal     0.2494      0.198      1.257      0.216      -0.151       0.650\n",
            "Salario             0.4469      0.208      2.149      0.037       0.027       0.867\n",
            "Escolaridade        0.0629      0.076      0.828      0.413      -0.090       0.216\n",
            "Região              0.2954      0.075      3.939      0.000       0.144       0.447\n",
            "Gênero              0.1943      0.061      3.160      0.003       0.070       0.318\n",
            "==============================================================================\n",
            "Omnibus:                       18.013   Durbin-Watson:                   1.737\n",
            "Prob(Omnibus):                  0.000   Jarque-Bera (JB):               53.309\n",
            "Skew:                          -0.774   Prob(JB):                     2.66e-12\n",
            "Kurtosis:                       7.925   Cond. No.                         8.91\n",
            "==============================================================================\n",
            "\n",
            "Notes:\n",
            "[1] Standard Errors assume that the covariance matrix of the errors is correctly specified.\n"
          ]
        }
      ],
      "source": [
        "#modelo MRLS\n",
        "function = 'LimitedoChequeEspecial~RendimentoTotal+Salario+Escolaridade+Região+Gênero'\n",
        "model = smf.ols(formula=function, data=limite_norm).fit() \n",
        "print(model.summary())"
      ]
    },
    {
      "cell_type": "code",
      "execution_count": 56,
      "metadata": {
        "colab": {
          "base_uri": "https://localhost:8080/"
        },
        "id": "MGd8bip6-85g",
        "outputId": "f51cd654-8843-4753-ae59-0b89531db567"
      },
      "outputs": [
        {
          "name": "stdout",
          "output_type": "stream",
          "text": [
            "                              OLS Regression Results                              \n",
            "==================================================================================\n",
            "Dep. Variable:     LimitedoChequeEspecial   R-squared:                       0.883\n",
            "Model:                                OLS   Adj. R-squared:                  0.872\n",
            "Method:                     Least Squares   F-statistic:                     80.75\n",
            "Date:                    Tue, 30 Jul 2024   Prob (F-statistic):           2.02e-19\n",
            "Time:                            10:41:37   Log-Likelihood:                -16.714\n",
            "No. Observations:                      48   AIC:                             43.43\n",
            "Df Residuals:                          43   BIC:                             52.78\n",
            "Df Model:                               4                                         \n",
            "Covariance Type:                nonrobust                                         \n",
            "===================================================================================\n",
            "                      coef    std err          t      P>|t|      [0.025      0.975]\n",
            "-----------------------------------------------------------------------------------\n",
            "Intercept       -1.318e-16      0.052  -2.52e-15      1.000      -0.105       0.105\n",
            "RendimentoTotal     0.2125      0.193      1.103      0.276      -0.176       0.601\n",
            "Salario             0.4930      0.200      2.469      0.018       0.090       0.896\n",
            "Região              0.3315      0.061      5.450      0.000       0.209       0.454\n",
            "Gênero              0.2106      0.058      3.631      0.001       0.094       0.328\n",
            "==============================================================================\n",
            "Omnibus:                       21.294   Durbin-Watson:                   1.615\n",
            "Prob(Omnibus):                  0.000   Jarque-Bera (JB):               65.346\n",
            "Skew:                          -0.973   Prob(JB):                     6.46e-15\n",
            "Kurtosis:                       8.374   Cond. No.                         7.92\n",
            "==============================================================================\n",
            "\n",
            "Notes:\n",
            "[1] Standard Errors assume that the covariance matrix of the errors is correctly specified.\n"
          ]
        }
      ],
      "source": [
        "#modelo MRLS\n",
        "function = 'LimitedoChequeEspecial~RendimentoTotal+Salario+Região+Gênero'\n",
        "model = smf.ols(formula=function, data=limite_norm).fit() \n",
        "print(model.summary())"
      ]
    },
    {
      "cell_type": "code",
      "execution_count": 57,
      "metadata": {
        "colab": {
          "base_uri": "https://localhost:8080/"
        },
        "id": "bXS4zBgU_A0U",
        "outputId": "b4de78a7-1255-47ee-fdf9-57eb235002ca"
      },
      "outputs": [
        {
          "name": "stdout",
          "output_type": "stream",
          "text": [
            "                                   OLS Regression Results                                  \n",
            "===========================================================================================\n",
            "Dep. Variable:     LimitedoChequeEspecial   R-squared (uncentered):                   0.879\n",
            "Model:                                OLS   Adj. R-squared (uncentered):              0.871\n",
            "Method:                     Least Squares   F-statistic:                              109.2\n",
            "Date:                    Tue, 30 Jul 2024   Prob (F-statistic):                    1.14e-20\n",
            "Time:                            10:41:37   Log-Likelihood:                         -17.385\n",
            "No. Observations:                      48   AIC:                                      40.77\n",
            "Df Residuals:                          45   BIC:                                      46.38\n",
            "Df Model:                               3                                                  \n",
            "Covariance Type:                nonrobust                                                  \n",
            "==============================================================================\n",
            "                 coef    std err          t      P>|t|      [0.025      0.975]\n",
            "------------------------------------------------------------------------------\n",
            "Salario        0.7025      0.061     11.495      0.000       0.579       0.826\n",
            "Região         0.3266      0.060      5.431      0.000       0.205       0.448\n",
            "Gênero         0.1967      0.056      3.505      0.001       0.084       0.310\n",
            "==============================================================================\n",
            "Omnibus:                       11.932   Durbin-Watson:                   1.646\n",
            "Prob(Omnibus):                  0.003   Jarque-Bera (JB):               29.897\n",
            "Skew:                          -0.402   Prob(JB):                     3.22e-07\n",
            "Kurtosis:                       6.782   Cond. No.                         1.83\n",
            "==============================================================================\n",
            "\n",
            "Notes:\n",
            "[1] R² is computed without centering (uncentered) since the model does not contain a constant.\n",
            "[2] Standard Errors assume that the covariance matrix of the errors is correctly specified.\n"
          ]
        }
      ],
      "source": [
        "#modelo MRLS\n",
        "function = 'LimitedoChequeEspecial~Salario+Região+Gênero-1'\n",
        "model = smf.ols(formula=function, data=limite_norm).fit() \n",
        "print(model.summary())"
      ]
    },
    {
      "cell_type": "code",
      "execution_count": 58,
      "metadata": {
        "id": "cyAxRXza_EGw"
      },
      "outputs": [],
      "source": [
        "x = limite_norm[[\"Salario\",\"Região\",\"Gênero\"]]\n",
        "\n",
        "y = limite_norm[[\"LimitedoChequeEspecial\"]]"
      ]
    },
    {
      "cell_type": "code",
      "execution_count": 59,
      "metadata": {
        "colab": {
          "base_uri": "https://localhost:8080/"
        },
        "id": "q0M-YVfj_MKS",
        "outputId": "e8072e36-d1a3-403c-8055-974b0b9bdb8e"
      },
      "outputs": [
        {
          "data": {
            "text/plain": [
              "LinearRegression()"
            ]
          },
          "execution_count": 59,
          "metadata": {},
          "output_type": "execute_result"
        }
      ],
      "source": [
        "#Separando os dados de Treino e Teste\n",
        "x_train, x_test, y_train, y_test = train_test_split(x, y, test_size=0.2, random_state=0)\n",
        "\n",
        "#Criando um Objeto de Regressão Linear\n",
        "lr = LinearRegression()\n",
        "\n",
        "#Treinando o Modelo\n",
        "lr.fit(x_train,y_train)"
      ]
    },
    {
      "cell_type": "code",
      "execution_count": 60,
      "metadata": {
        "colab": {
          "base_uri": "https://localhost:8080/"
        },
        "id": "MK8RaXEvvXzR",
        "outputId": "67bd9240-9d20-450b-8858-32b9c52d8bf5"
      },
      "outputs": [
        {
          "name": "stdout",
          "output_type": "stream",
          "text": [
            "Coeficiente de Determinação (R²): 0.871127025731754\n"
          ]
        }
      ],
      "source": [
        "r_sq = lr.score(x, y)\n",
        "print('Coeficiente de Determinação (R²):', r_sq)"
      ]
    },
    {
      "cell_type": "code",
      "execution_count": 61,
      "metadata": {
        "colab": {
          "base_uri": "https://localhost:8080/"
        },
        "id": "ntuO1EPdwOAv",
        "outputId": "e980bb48-061c-49ef-e8ce-746fecf0276f"
      },
      "outputs": [
        {
          "name": "stdout",
          "output_type": "stream",
          "text": [
            "MAE: 0.2315362328577898\n",
            "MSE: 0.1149020457638938\n",
            "RMSE: 0.3389720427467342\n"
          ]
        }
      ],
      "source": [
        "y_pred_train = lr.predict(x_train)\n",
        "print('MAE:', metrics.mean_absolute_error(y_train, y_pred_train))\n",
        "print('MSE:', metrics.mean_squared_error(y_train, y_pred_train))\n",
        "print('RMSE:', np.sqrt(metrics.mean_squared_error(y_train, y_pred_train)))"
      ]
    },
    {
      "cell_type": "code",
      "execution_count": 62,
      "metadata": {
        "colab": {
          "base_uri": "https://localhost:8080/"
        },
        "id": "sv3R4K6WvaJq",
        "outputId": "dd38b24b-a705-43f1-d3e6-59b37ea26db1"
      },
      "outputs": [
        {
          "name": "stdout",
          "output_type": "stream",
          "text": [
            "MAE: 0.32275464226861084\n",
            "MSE: 0.1819625025847844\n",
            "RMSE: 0.4265706302416804\n"
          ]
        }
      ],
      "source": [
        "y_pred = lr.predict(x_test)\n",
        "print('MAE:', metrics.mean_absolute_error(y_test, y_pred))\n",
        "print('MSE:', metrics.mean_squared_error(y_test, y_pred))\n",
        "print('RMSE:', np.sqrt(metrics.mean_squared_error(y_test, y_pred)))"
      ]
    }
  ],
  "metadata": {
    "colab": {
      "provenance": []
    },
    "kernelspec": {
      "display_name": "Python 3",
      "name": "python3"
    },
    "language_info": {
      "codemirror_mode": {
        "name": "ipython",
        "version": 3
      },
      "file_extension": ".py",
      "mimetype": "text/x-python",
      "name": "python",
      "nbconvert_exporter": "python",
      "pygments_lexer": "ipython3",
      "version": "3.9.12"
    }
  },
  "nbformat": 4,
  "nbformat_minor": 0
}
