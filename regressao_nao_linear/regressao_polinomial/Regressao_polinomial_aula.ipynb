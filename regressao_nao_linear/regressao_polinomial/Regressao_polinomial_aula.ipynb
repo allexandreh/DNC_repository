{
  "cells": [
    {
      "cell_type": "markdown",
      "metadata": {
        "id": "W5G9UAma4al4"
      },
      "source": [
        "# Regressão Polinomial\n",
        "\n",
        "Inicialmente vamos gerar dados não lineares baseado em um simples equação quadrática:\n",
        "\n",
        "$$y = ax^{2} + bx + c$$\n",
        "\n",
        "Além disso, adicionamos algum ruído."
      ]
    },
    {
      "cell_type": "code",
      "execution_count": 3,
      "metadata": {
        "colab": {
          "base_uri": "https://localhost:8080/",
          "height": 279
        },
        "id": "fyb1lEAv4al7",
        "outputId": "050b17ac-85f5-4517-dc06-0cb6843949c0"
      },
      "outputs": [
        {
          "data": {
            "image/png": "[encoded data removed]",
            "text/plain": [
              "<Figure size 432x288 with 1 Axes>"
            ]
          },
          "metadata": {
            "needs_background": "light"
          },
          "output_type": "display_data"
        }
      ],
      "source": [
        "import numpy as np\n",
        "np.random.seed(42)\n",
        "m = 100\n",
        "X = 6 * np.random.rand(m, 1) - 3\n",
        "y = 0.5 * X ** 2 + 2 * X + np.random.randn(m , 1)\n",
        "\n",
        "import matplotlib.pyplot as plt\n",
        "\n",
        "plt.scatter(X, y)\n",
        "plt.xlabel('x1')\n",
        "plt.ylabel('y');"
      ]
    },
    {
      "cell_type": "code",
      "execution_count": 4,
      "metadata": {
        "colab": {
          "base_uri": "https://localhost:8080/",
          "height": 279
        },
        "id": "64vYxD668CHm",
        "outputId": "834f7709-deb6-4d0a-ce76-524da29def44"
      },
      "outputs": [
        {
          "data": {
            "image/png": "[encoded data removed]",
            "text/plain": [
              "<Figure size 432x288 with 1 Axes>"
            ]
          },
          "metadata": {
            "needs_background": "light"
          },
          "output_type": "display_data"
        }
      ],
      "source": [
        "from sklearn.linear_model import LinearRegression\n",
        "\n",
        "linear_reg = LinearRegression()\n",
        "linear_reg.fit(X, y)\n",
        "\n",
        "previsoes = linear_reg.predict(X)\n",
        "\n",
        "import matplotlib.pyplot as plt\n",
        "\n",
        "plt.scatter(X, y)\n",
        "plt.scatter(X, previsoes)\n",
        "plt.xlabel('x1')\n",
        "plt.ylabel('y');"
      ]
    },
    {
      "cell_type": "markdown",
      "metadata": {
        "id": "1kTEdIrS4amA"
      },
      "source": [
        "Como podemos ver uma linha reta não irá acomodar corretamente esses dados. Então podemos utilizar a funcionalidade `PolynomialFeatures` para transformar nossos dados de treinamento elevando os valores ao quadrado (Polinômio de 2 grau)."
      ]
    },
    {
      "cell_type": "code",
      "execution_count": 5,
      "metadata": {
        "id": "sjdHcYr14amA"
      },
      "outputs": [],
      "source": [
        "from sklearn.preprocessing import PolynomialFeatures"
      ]
    },
    {
      "cell_type": "code",
      "execution_count": 6,
      "metadata": {
        "id": "4JEDeWSU4amC"
      },
      "outputs": [],
      "source": [
        "poly_features = PolynomialFeatures(degree=2, include_bias=False)"
      ]
    },
    {
      "cell_type": "code",
      "execution_count": 7,
      "metadata": {
        "colab": {
          "base_uri": "https://localhost:8080/"
        },
        "id": "tXrFr9-r4amE",
        "outputId": "abf5ce11-e330-48f4-91f6-d2c8e6535052"
      },
      "outputs": [
        {
          "name": "stdout",
          "output_type": "stream",
          "text": [
            "[-0.75275929]\n",
            "[-0.75275929  0.56664654]\n"
          ]
        }
      ],
      "source": [
        "X_poly = poly_features.fit_transform(X)\n",
        "\n",
        "print(X[0])\n",
        "print(X_poly[0])"
      ]
    },
    {
      "cell_type": "markdown",
      "metadata": {
        "id": "r5iM74As4amG"
      },
      "source": [
        "`X_poly` contém a característica original de `X` mais o quadrado desta característica. Assim podemos ajustar um modelo de regressão linear."
      ]
    },
    {
      "cell_type": "code",
      "execution_count": 8,
      "metadata": {
        "colab": {
          "base_uri": "https://localhost:8080/"
        },
        "id": "RqU6EdJ24amH",
        "outputId": "37f4979c-42e5-412a-e708-a680a4be9369"
      },
      "outputs": [
        {
          "data": {
            "text/plain": [
              "LinearRegression()"
            ]
          },
          "execution_count": 8,
          "metadata": {},
          "output_type": "execute_result"
        }
      ],
      "source": [
        "from sklearn.linear_model import LinearRegression\n",
        "\n",
        "linear_reg = LinearRegression()\n",
        "linear_reg.fit(X_poly, y)"
      ]
    },
    {
      "cell_type": "code",
      "execution_count": 9,
      "metadata": {
        "colab": {
          "base_uri": "https://localhost:8080/"
        },
        "id": "n1OYHQPb4amJ",
        "outputId": "6e56e7cf-615d-4ae7-f858-0955a0e8818f"
      },
      "outputs": [
        {
          "name": "stdout",
          "output_type": "stream",
          "text": [
            "[-0.21865419]\n",
            "[[1.93366893 0.56456263]]\n"
          ]
        }
      ],
      "source": [
        "print(linear_reg.intercept_)\n",
        "print(linear_reg.coef_)"
      ]
    },
    {
      "cell_type": "code",
      "execution_count": 10,
      "metadata": {
        "id": "YCZu7uzS4amL"
      },
      "outputs": [],
      "source": [
        "previsoes = linear_reg.predict(X_poly)"
      ]
    },
    {
      "cell_type": "code",
      "execution_count": 11,
      "metadata": {
        "colab": {
          "base_uri": "https://localhost:8080/"
        },
        "id": "n8NnYBvm4amN",
        "outputId": "c61c7bc4-bd1b-483f-f1c7-4fad8af38051"
      },
      "outputs": [
        {
          "data": {
            "text/plain": [
              "100"
            ]
          },
          "execution_count": 11,
          "metadata": {},
          "output_type": "execute_result"
        }
      ],
      "source": [
        "len(X_poly)"
      ]
    },
    {
      "cell_type": "code",
      "execution_count": 12,
      "metadata": {
        "colab": {
          "base_uri": "https://localhost:8080/",
          "height": 279
        },
        "id": "XD31blnr4amP",
        "outputId": "781ad065-1243-4478-8169-5d912e9eb773"
      },
      "outputs": [
        {
          "data": {
            "image/png": "[encoded data removed]",
            "text/plain": [
              "<Figure size 432x288 with 1 Axes>"
            ]
          },
          "metadata": {
            "needs_background": "light"
          },
          "output_type": "display_data"
        }
      ],
      "source": [
        "import matplotlib.pyplot as plt\n",
        "\n",
        "plt.scatter(X, y)\n",
        "plt.scatter(X, previsoes)\n",
        "plt.xlabel('x1')\n",
        "plt.ylabel('y');"
      ]
    },
    {
      "cell_type": "markdown",
      "metadata": {
        "id": "DMzLL_-04amR"
      },
      "source": [
        "É importante que a regressão polinomial é capaz de encontrar relações entre elas (algo que um modelo simples de regressão linear não pode fazer).\n",
        "\n",
        "Isto é possível porque a `PolynomialFeatures` também adiciona todas as combinações das features até o grau fornecido.\n",
        "\n",
        "Por exemplo, se houvesse duas características `a` e `b` e `degree=3`, as seguintes características seriam criadas: $a^{2}$, $a^{3}$, $b^{2}$, $b^{3}$, $ab$, $a^{2}b$ e $ab^{2}$.\n",
        "\n",
        "\n",
        "**Atenção: tome cuidado com a explosão combinatória do número de features (características).**"
      ]
    },
    {
      "cell_type": "markdown",
      "metadata": {
        "id": "7vOOu1VXdq6m"
      },
      "source": [
        "# Exemplo com Regressão Múltipla"
      ]
    },
    {
      "cell_type": "code",
      "execution_count": 13,
      "metadata": {
        "colab": {
          "base_uri": "https://localhost:8080/",
          "height": 206
        },
        "id": "s4xAUuxtbNPP",
        "outputId": "b64d5a1f-e5fe-4c58-8325-653d4c260a2b"
      },
      "outputs": [
        {
          "data": {
            "text/html": [
              "<div>\n",
              "<style scoped>\n",
              "    .dataframe tbody tr th:only-of-type {\n",
              "        vertical-align: middle;\n",
              "    }\n",
              "\n",
              "    .dataframe tbody tr th {\n",
              "        vertical-align: top;\n",
              "    }\n",
              "\n",
              "    .dataframe thead th {\n",
              "        text-align: right;\n",
              "    }\n",
              "</style>\n",
              "<table border=\"1\" class=\"dataframe\">\n",
              "  <thead>\n",
              "    <tr style=\"text-align: right;\">\n",
              "      <th></th>\n",
              "      <th>x1</th>\n",
              "      <th>x2</th>\n",
              "      <th>y</th>\n",
              "    </tr>\n",
              "  </thead>\n",
              "  <tbody>\n",
              "    <tr>\n",
              "      <th>0</th>\n",
              "      <td>-0.752759</td>\n",
              "      <td>-0.899427</td>\n",
              "      <td>1.694043</td>\n",
              "    </tr>\n",
              "    <tr>\n",
              "      <th>1</th>\n",
              "      <td>2.704286</td>\n",
              "      <td>1.036513</td>\n",
              "      <td>19.002002</td>\n",
              "    </tr>\n",
              "    <tr>\n",
              "      <th>2</th>\n",
              "      <td>1.391964</td>\n",
              "      <td>0.005939</td>\n",
              "      <td>3.797220</td>\n",
              "    </tr>\n",
              "    <tr>\n",
              "      <th>3</th>\n",
              "      <td>0.591951</td>\n",
              "      <td>0.627426</td>\n",
              "      <td>0.659190</td>\n",
              "    </tr>\n",
              "    <tr>\n",
              "      <th>4</th>\n",
              "      <td>-2.063888</td>\n",
              "      <td>1.904213</td>\n",
              "      <td>1.672952</td>\n",
              "    </tr>\n",
              "  </tbody>\n",
              "</table>\n",
              "</div>"
            ],
            "text/plain": [
              "         x1        x2          y\n",
              "0 -0.752759 -0.899427   1.694043\n",
              "1  2.704286  1.036513  19.002002\n",
              "2  1.391964  0.005939   3.797220\n",
              "3  0.591951  0.627426   0.659190\n",
              "4 -2.063888  1.904213   1.672952"
            ]
          },
          "execution_count": 13,
          "metadata": {},
          "output_type": "execute_result"
        }
      ],
      "source": [
        "import numpy as np\n",
        "import pandas as pd\n",
        "\n",
        "np.random.seed(42)\n",
        "m = 100\n",
        "X1 = 6 * np.random.rand(m, 1) - 3\n",
        "X2 = 3.2 * np.random.rand(m, 1) - 1\n",
        "\n",
        "y = 1.3 * X1 ** 2 + 0.5 * X ** 2 + 2 * X1 * X2 + np.random.randn(m , 1)\n",
        "\n",
        "df = pd.DataFrame({\n",
        "    'x1': X1.ravel(),\n",
        "    'x2': X2.ravel(),\n",
        "    'y': y.ravel()\n",
        "})\n",
        "df.head()"
      ]
    },
    {
      "cell_type": "code",
      "execution_count": 14,
      "metadata": {
        "colab": {
          "base_uri": "https://localhost:8080/"
        },
        "id": "KOz2qHbkbz-p",
        "outputId": "92fa09cb-5698-4bc7-f8ca-fa7ab73d3f38"
      },
      "outputs": [
        {
          "data": {
            "text/plain": [
              "0.06014739226422172"
            ]
          },
          "execution_count": 14,
          "metadata": {},
          "output_type": "execute_result"
        }
      ],
      "source": [
        "# treinando um modelo usando apenas as features já existentes\n",
        "from sklearn.linear_model import LinearRegression\n",
        "from sklearn.metrics import r2_score\n",
        "\n",
        "X = df.drop('y', axis=1).copy()\n",
        "y = df['y'].copy()\n",
        "\n",
        "linear_reg = LinearRegression()\n",
        "linear_reg.fit(X, y)\n",
        "y_pred = linear_reg.predict(X)\n",
        "\n",
        "r2_score(y, y_pred)"
      ]
    },
    {
      "cell_type": "code",
      "execution_count": 15,
      "metadata": {
        "colab": {
          "base_uri": "https://localhost:8080/",
          "height": 206
        },
        "id": "YMGA3f0bcXVP",
        "outputId": "7c2e815c-4918-41e3-a4bf-b0aedac63257"
      },
      "outputs": [
        {
          "data": {
            "text/html": [
              "<div>\n",
              "<style scoped>\n",
              "    .dataframe tbody tr th:only-of-type {\n",
              "        vertical-align: middle;\n",
              "    }\n",
              "\n",
              "    .dataframe tbody tr th {\n",
              "        vertical-align: top;\n",
              "    }\n",
              "\n",
              "    .dataframe thead th {\n",
              "        text-align: right;\n",
              "    }\n",
              "</style>\n",
              "<table border=\"1\" class=\"dataframe\">\n",
              "  <thead>\n",
              "    <tr style=\"text-align: right;\">\n",
              "      <th></th>\n",
              "      <th>x1</th>\n",
              "      <th>x2</th>\n",
              "      <th>x1_quadrado</th>\n",
              "      <th>x1x2</th>\n",
              "      <th>x2_quadrado</th>\n",
              "    </tr>\n",
              "  </thead>\n",
              "  <tbody>\n",
              "    <tr>\n",
              "      <th>0</th>\n",
              "      <td>-0.752759</td>\n",
              "      <td>-0.899427</td>\n",
              "      <td>0.566647</td>\n",
              "      <td>0.677052</td>\n",
              "      <td>0.808968</td>\n",
              "    </tr>\n",
              "    <tr>\n",
              "      <th>1</th>\n",
              "      <td>2.704286</td>\n",
              "      <td>1.036513</td>\n",
              "      <td>7.313162</td>\n",
              "      <td>2.803028</td>\n",
              "      <td>1.074360</td>\n",
              "    </tr>\n",
              "    <tr>\n",
              "      <th>2</th>\n",
              "      <td>1.391964</td>\n",
              "      <td>0.005939</td>\n",
              "      <td>1.937563</td>\n",
              "      <td>0.008267</td>\n",
              "      <td>0.000035</td>\n",
              "    </tr>\n",
              "    <tr>\n",
              "      <th>3</th>\n",
              "      <td>0.591951</td>\n",
              "      <td>0.627426</td>\n",
              "      <td>0.350406</td>\n",
              "      <td>0.371406</td>\n",
              "      <td>0.393664</td>\n",
              "    </tr>\n",
              "    <tr>\n",
              "      <th>4</th>\n",
              "      <td>-2.063888</td>\n",
              "      <td>1.904213</td>\n",
              "      <td>4.259634</td>\n",
              "      <td>-3.930082</td>\n",
              "      <td>3.626026</td>\n",
              "    </tr>\n",
              "  </tbody>\n",
              "</table>\n",
              "</div>"
            ],
            "text/plain": [
              "         x1        x2  x1_quadrado      x1x2  x2_quadrado\n",
              "0 -0.752759 -0.899427     0.566647  0.677052     0.808968\n",
              "1  2.704286  1.036513     7.313162  2.803028     1.074360\n",
              "2  1.391964  0.005939     1.937563  0.008267     0.000035\n",
              "3  0.591951  0.627426     0.350406  0.371406     0.393664\n",
              "4 -2.063888  1.904213     4.259634 -3.930082     3.626026"
            ]
          },
          "execution_count": 15,
          "metadata": {},
          "output_type": "execute_result"
        }
      ],
      "source": [
        "# adicionando features de interação\n",
        "from sklearn.preprocessing import PolynomialFeatures\n",
        "\n",
        "poly_features = PolynomialFeatures(degree=2, include_bias=False)\n",
        "\n",
        "X_poly = pd.DataFrame(poly_features.fit_transform(X), columns=['x1', 'x2', 'x1_quadrado', 'x1x2', 'x2_quadrado'])\n",
        "X_poly.head()"
      ]
    },
    {
      "cell_type": "code",
      "execution_count": 16,
      "metadata": {
        "colab": {
          "base_uri": "https://localhost:8080/"
        },
        "id": "mcwaeS07diT5",
        "outputId": "a27a3f1a-619b-4d83-f598-7d7a8f047f8e"
      },
      "outputs": [
        {
          "data": {
            "text/plain": [
              "LinearRegression()"
            ]
          },
          "execution_count": 16,
          "metadata": {},
          "output_type": "execute_result"
        }
      ],
      "source": [
        "linear_reg = LinearRegression()\n",
        "linear_reg.fit(X_poly, y)"
      ]
    },
    {
      "cell_type": "code",
      "execution_count": 17,
      "metadata": {
        "colab": {
          "base_uri": "https://localhost:8080/"
        },
        "id": "udnb9YKNdkkG",
        "outputId": "f3de0901-387a-442c-91f3-1c90a1eb5760"
      },
      "outputs": [
        {
          "data": {
            "text/plain": [
              "0.9756123530206587"
            ]
          },
          "execution_count": 17,
          "metadata": {},
          "output_type": "execute_result"
        }
      ],
      "source": [
        "r2_score(y, linear_reg.predict(X_poly))"
      ]
    },
    {
      "cell_type": "markdown",
      "metadata": {
        "id": "W_xKdSaeeMoy"
      },
      "source": [
        "Podemos observar que como esperado, o modelo se ajustou bem melhor nos dados do que o anterior sem as features de interações."
      ]
    }
  ],
  "metadata": {
    "colab": {
      "collapsed_sections": [],
      "provenance": []
    },
    "kernelspec": {
      "display_name": "Python 3",
      "language": "python",
      "name": "python3"
    },
    "language_info": {
      "codemirror_mode": {
        "name": "ipython",
        "version": 3
      },
      "file_extension": ".py",
      "mimetype": "text/x-python",
      "name": "python",
      "nbconvert_exporter": "python",
      "pygments_lexer": "ipython3",
      "version": "3.9.12"
    }
  },
  "nbformat": 4,
  "nbformat_minor": 0
}
